{
 "cells": [
  {
   "cell_type": "code",
   "execution_count": 1,
   "metadata": {},
   "outputs": [],
   "source": [
    "import tensorflow as tf\n",
    "from tensorflow import keras\n",
    "import numpy as np\n",
    "import os\n",
    "import matplotlib as mpl\n",
    "import matplotlib.pyplot as plt"
   ]
  },
  {
   "cell_type": "code",
   "execution_count": 2,
   "metadata": {
    "scrolled": true
   },
   "outputs": [
    {
     "name": "stdout",
     "output_type": "stream",
     "text": [
      "[name: \"/device:CPU:0\"\n",
      "device_type: \"CPU\"\n",
      "memory_limit: 268435456\n",
      "locality {\n",
      "}\n",
      "incarnation: 15406033026645884796\n",
      ", name: \"/device:XLA_CPU:0\"\n",
      "device_type: \"XLA_CPU\"\n",
      "memory_limit: 17179869184\n",
      "locality {\n",
      "}\n",
      "incarnation: 10164724876757140394\n",
      "physical_device_desc: \"device: XLA_CPU device\"\n",
      ", name: \"/device:XLA_GPU:0\"\n",
      "device_type: \"XLA_GPU\"\n",
      "memory_limit: 17179869184\n",
      "locality {\n",
      "}\n",
      "incarnation: 16559829886605268262\n",
      "physical_device_desc: \"device: XLA_GPU device\"\n",
      "]\n"
     ]
    }
   ],
   "source": [
    "from tensorflow.python.client import device_lib\n",
    "\n",
    "print(device_lib.list_local_devices())"
   ]
  },
  {
   "cell_type": "code",
   "execution_count": 28,
   "metadata": {},
   "outputs": [
    {
     "name": "stdout",
     "output_type": "stream",
     "text": [
      "X_batch: <_VariantDataset shapes: (), types: tf.int32>\n",
      "X_batch: <_VariantDataset shapes: (), types: tf.int32>\n",
      "X_batch: <_VariantDataset shapes: (), types: tf.int32>\n",
      "X_batch: <_VariantDataset shapes: (), types: tf.int32>\n",
      "X_batch: <_VariantDataset shapes: (), types: tf.int32>\n",
      "X_batch: <_VariantDataset shapes: (), types: tf.int32>\n"
     ]
    }
   ],
   "source": [
    "np.random.seed(123)\n",
    "tf.random.set_seed(123)\n",
    "\n",
    "n_steps=5\n",
    "dataset = tf.data.Dataset.from_tensor_slices(tf.range(16))\n",
    "dataset = dataset.window(n_steps, shift=2, drop_remainder=True)\n",
    "for idx, (X_batch) in enumerate(dataset):\n",
    "    print('X_batch:',X_batch)"
   ]
  },
  {
   "cell_type": "code",
   "execution_count": 29,
   "metadata": {},
   "outputs": [
    {
     "name": "stdout",
     "output_type": "stream",
     "text": [
      "X_batch: tf.Tensor([0 1 2 3 4], shape=(5,), dtype=int32)\n",
      "X_batch: tf.Tensor([2 3 4 5 6], shape=(5,), dtype=int32)\n",
      "X_batch: tf.Tensor([4 5 6 7 8], shape=(5,), dtype=int32)\n",
      "X_batch: tf.Tensor([ 6  7  8  9 10], shape=(5,), dtype=int32)\n",
      "X_batch: tf.Tensor([ 8  9 10 11 12], shape=(5,), dtype=int32)\n",
      "X_batch: tf.Tensor([10 11 12 13 14], shape=(5,), dtype=int32)\n"
     ]
    }
   ],
   "source": [
    "dataset = dataset.flat_map(lambda window: window.batch(n_steps))\n",
    "for idx, (X_batch) in enumerate(dataset):\n",
    "    print('X_batch:',X_batch)"
   ]
  },
  {
   "cell_type": "code",
   "execution_count": 30,
   "metadata": {},
   "outputs": [
    {
     "name": "stdout",
     "output_type": "stream",
     "text": [
      "X_batch: tf.Tensor(\n",
      "[[10 11 12 13]\n",
      " [ 2  3  4  5]\n",
      " [ 8  9 10 11]], shape=(3, 4), dtype=int32)\n",
      "y_batch: tf.Tensor(\n",
      "[[11 12 13 14]\n",
      " [ 3  4  5  6]\n",
      " [ 9 10 11 12]], shape=(3, 4), dtype=int32)\n",
      "X_batch: tf.Tensor(\n",
      "[[0 1 2 3]\n",
      " [4 5 6 7]\n",
      " [6 7 8 9]], shape=(3, 4), dtype=int32)\n",
      "y_batch: tf.Tensor(\n",
      "[[ 1  2  3  4]\n",
      " [ 5  6  7  8]\n",
      " [ 7  8  9 10]], shape=(3, 4), dtype=int32)\n"
     ]
    }
   ],
   "source": [
    "dataset = dataset.shuffle(10).map(lambda window: (window[:-1], window[1:]))\n",
    "dataset = dataset.batch(3).prefetch(1)\n",
    "for idx, (X_batch, y_batch) in enumerate(dataset):\n",
    "    print('X_batch:',X_batch)\n",
    "    print('y_batch:',y_batch)"
   ]
  },
  {
   "cell_type": "markdown",
   "metadata": {},
   "source": [
    "# **CharRNN - Shakespeare_Dataset**"
   ]
  },
  {
   "cell_type": "code",
   "execution_count": 32,
   "metadata": {},
   "outputs": [
    {
     "name": "stdout",
     "output_type": "stream",
     "text": [
      "Downloading data from https://raw.githubusercontent.com/karpathy/char-rnn/master/data/tinyshakespeare/input.txt\n",
      "1122304/1115394 [==============================] - 15s 13us/step\n"
     ]
    },
    {
     "data": {
      "text/plain": [
       "'C:\\\\Users\\\\user\\\\.keras\\\\datasets\\\\shakespeare.txt'"
      ]
     },
     "execution_count": 32,
     "metadata": {},
     "output_type": "execute_result"
    }
   ],
   "source": [
    "shakespeare_url = \"https://raw.githubusercontent.com/karpathy/char-rnn/master/data/tinyshakespeare/input.txt\"\n",
    "filepath = keras.utils.get_file('shakespeare.txt', shakespeare_url)\n",
    "filepath"
   ]
  },
  {
   "cell_type": "code",
   "execution_count": 33,
   "metadata": {},
   "outputs": [],
   "source": [
    "with open(filepath) as f:\n",
    "    shakespeare_txt = f.read()"
   ]
  },
  {
   "cell_type": "code",
   "execution_count": 37,
   "metadata": {},
   "outputs": [
    {
     "name": "stdout",
     "output_type": "stream",
     "text": [
      "First Citizen:\n",
      "Before we proceed any further, hear me speak.\n",
      "\n",
      "All:\n",
      "Speak, speak.\n",
      "\n",
      "First Citizen:\n",
      "You are all resolved rather to die than to \n"
     ]
    }
   ],
   "source": [
    "print(shakespeare_txt[:140])"
   ]
  },
  {
   "cell_type": "code",
   "execution_count": 39,
   "metadata": {},
   "outputs": [
    {
     "data": {
      "text/plain": [
       "\"\\n !$&',-.3:;?abcdefghijklmnopqrstuvwxyz\""
      ]
     },
     "execution_count": 39,
     "metadata": {},
     "output_type": "execute_result"
    }
   ],
   "source": [
    "''.join(sorted(set(shakespeare_txt.lower())))"
   ]
  },
  {
   "cell_type": "code",
   "execution_count": 40,
   "metadata": {},
   "outputs": [],
   "source": [
    "tokenizer = keras.preprocessing.text.Tokenizer(char_level=True)\n",
    "tokenizer.fit_on_texts(shakespeare_txt)"
   ]
  },
  {
   "cell_type": "code",
   "execution_count": 42,
   "metadata": {},
   "outputs": [
    {
     "data": {
      "text/plain": [
       "[[20, 6, 9, 8, 3]]"
      ]
     },
     "execution_count": 42,
     "metadata": {},
     "output_type": "execute_result"
    }
   ],
   "source": [
    "tokenizer.texts_to_sequences(['first'])"
   ]
  },
  {
   "cell_type": "code",
   "execution_count": 44,
   "metadata": {},
   "outputs": [
    {
     "data": {
      "text/plain": [
       "['f i r s t']"
      ]
     },
     "execution_count": 44,
     "metadata": {},
     "output_type": "execute_result"
    }
   ],
   "source": [
    "tokenizer.sequences_to_texts([[20, 6, 9, 8, 3]])"
   ]
  },
  {
   "cell_type": "code",
   "execution_count": 46,
   "metadata": {},
   "outputs": [
    {
     "data": {
      "text/plain": [
       "{' ': 1,\n",
       " 'e': 2,\n",
       " 't': 3,\n",
       " 'o': 4,\n",
       " 'a': 5,\n",
       " 'i': 6,\n",
       " 'h': 7,\n",
       " 's': 8,\n",
       " 'r': 9,\n",
       " 'n': 10,\n",
       " '\\n': 11,\n",
       " 'l': 12,\n",
       " 'd': 13,\n",
       " 'u': 14,\n",
       " 'm': 15,\n",
       " 'y': 16,\n",
       " 'w': 17,\n",
       " ',': 18,\n",
       " 'c': 19,\n",
       " 'f': 20,\n",
       " 'g': 21,\n",
       " 'b': 22,\n",
       " 'p': 23,\n",
       " ':': 24,\n",
       " 'k': 25,\n",
       " 'v': 26,\n",
       " '.': 27,\n",
       " \"'\": 28,\n",
       " ';': 29,\n",
       " '?': 30,\n",
       " '!': 31,\n",
       " '-': 32,\n",
       " 'j': 33,\n",
       " 'q': 34,\n",
       " 'x': 35,\n",
       " 'z': 36,\n",
       " '3': 37,\n",
       " '&': 38,\n",
       " '$': 39}"
      ]
     },
     "execution_count": 46,
     "metadata": {},
     "output_type": "execute_result"
    }
   ],
   "source": [
    "max_id = tokenizer.word_index\n",
    "max_id"
   ]
  },
  {
   "cell_type": "code",
   "execution_count": 47,
   "metadata": {},
   "outputs": [],
   "source": [
    "max_id = len(max_id)"
   ]
  },
  {
   "cell_type": "code",
   "execution_count": 48,
   "metadata": {},
   "outputs": [
    {
     "data": {
      "text/plain": [
       "1115394"
      ]
     },
     "execution_count": 48,
     "metadata": {},
     "output_type": "execute_result"
    }
   ],
   "source": [
    "dataset_size = tokenizer.document_count\n",
    "dataset_size"
   ]
  },
  {
   "cell_type": "code",
   "execution_count": 90,
   "metadata": {},
   "outputs": [
    {
     "data": {
      "text/plain": [
       "array([19,  5,  8,  7,  2,  0, 18,  5,  2,  5, 35,  1,  9, 23, 10, 21,  1,\n",
       "       19,  3,  8,  1,  0, 16,  1,  0, 22,  8,  3, 18,  1,  1, 12,  0,  4,\n",
       "        9, 15,  0, 19, 13,  8,  2,  6,  1,  8, 17,  0,  6,  1,  4,  8,  0,\n",
       "       14,  1,  0,  7, 22,  1,  4, 24, 26, 10, 10,  4, 11, 11, 23, 10,  7,\n",
       "       22,  1,  4, 24, 17,  0,  7, 22,  1,  4, 24, 26, 10, 10, 19,  5,  8,\n",
       "        7,  2,  0, 18,  5,  2,  5, 35,  1,  9, 23, 10, 15,  3, 13])"
      ]
     },
     "execution_count": 90,
     "metadata": {},
     "output_type": "execute_result"
    }
   ],
   "source": [
    "[encoded] = np.array(tokenizer.texts_to_sequences([shakespeare_txt]))-1\n",
    "encoded[:100]"
   ]
  },
  {
   "cell_type": "code",
   "execution_count": 144,
   "metadata": {},
   "outputs": [
    {
     "name": "stdout",
     "output_type": "stream",
     "text": [
      "167309\n"
     ]
    }
   ],
   "source": [
    "train_size = dataset_size*15//100\n",
    "print(train_size)\n",
    "dataset = tf.data.Dataset.from_tensor_slices(encoded[:train_size])"
   ]
  },
  {
   "cell_type": "code",
   "execution_count": 145,
   "metadata": {},
   "outputs": [
    {
     "name": "stdout",
     "output_type": "stream",
     "text": [
      "tf.Tensor(19, shape=(), dtype=int32)\n",
      "tf.Tensor(5, shape=(), dtype=int32)\n"
     ]
    }
   ],
   "source": [
    "for x in dataset.take(2):\n",
    "    print(x)"
   ]
  },
  {
   "cell_type": "code",
   "execution_count": 146,
   "metadata": {},
   "outputs": [],
   "source": [
    "n_steps=100\n",
    "windows_length=n_steps+1\n",
    "batch_size=32\n",
    "dataset = dataset.repeat().window(windows_length, shift=1, drop_remainder=True)\n",
    "dataset = dataset.flat_map(lambda window: window.batch(windows_length))\n",
    "dataset = dataset.map(lambda window: (window[:-1], window[1:])).shuffle(10000).batch(batch_size)"
   ]
  },
  {
   "cell_type": "code",
   "execution_count": 147,
   "metadata": {},
   "outputs": [
    {
     "name": "stdout",
     "output_type": "stream",
     "text": [
      "\n",
      "X_batch: tf.Tensor(\n",
      "[[ 8  5 18 ... 14  5  2]\n",
      " [ 2  6  1 ... 12  5 12]\n",
      " [ 1  1  0 ...  1  0 19]\n",
      " ...\n",
      " [12 26  0 ... 13  0  4]\n",
      " [15  0 25 ...  3  0 21]\n",
      " [ 6  1  0 ...  1 11 22]], shape=(32, 100), dtype=int32)\n",
      "Y_batch: tf.Tensor(\n",
      "[[ 5 18  5 ...  5  2 15]\n",
      " [ 6  1  0 ...  5 12  0]\n",
      " [ 1  0 16 ...  0 19 11]\n",
      " ...\n",
      " [26  0  6 ...  0  4  8]\n",
      " [ 0 25  1 ...  0 21  8]\n",
      " [ 1  0  4 ... 11 22  7]], shape=(32, 100), dtype=int32)\n",
      "\n",
      "X_batch: tf.Tensor(\n",
      "[[ 3 16  0 ... 12  0  1]\n",
      " [ 5  9 24 ...  5 14  1]\n",
      " [ 2  5 35 ...  5  9  0]\n",
      " ...\n",
      " [ 7  1  9 ... 12  0  2]\n",
      " [ 0  1  4 ...  1  7  7]\n",
      " [ 0  5 14 ...  8 14  7]], shape=(32, 100), dtype=int32)\n",
      "Y_batch: tf.Tensor(\n",
      "[[16  0  5 ...  0  1  7]\n",
      " [ 9 24  0 ... 14  1  0]\n",
      " [ 5 35  1 ...  9  0  8]\n",
      " ...\n",
      " [ 1  9  4 ...  0  2  6]\n",
      " [ 1  4  2 ...  7  7  0]\n",
      " [ 5 14 22 ... 14  7 17]], shape=(32, 100), dtype=int32)\n"
     ]
    }
   ],
   "source": [
    "for x,y in dataset.take(2):\n",
    "    print('\\nX_batch:',x)\n",
    "    print('Y_batch:',y)"
   ]
  },
  {
   "cell_type": "code",
   "execution_count": 148,
   "metadata": {},
   "outputs": [],
   "source": [
    "dataset = dataset.map(lambda X_batch, y_batch: (tf.one_hot(X_batch, depth=max_id), y_batch))\n",
    "dataset = dataset.prefetch(1)"
   ]
  },
  {
   "cell_type": "code",
   "execution_count": 149,
   "metadata": {},
   "outputs": [
    {
     "name": "stdout",
     "output_type": "stream",
     "text": [
      "\n",
      "X_batch: tf.Tensor(\n",
      "[[[0. 0. 0. ... 0. 0. 0.]\n",
      "  [1. 0. 0. ... 0. 0. 0.]\n",
      "  [0. 0. 0. ... 0. 0. 0.]\n",
      "  ...\n",
      "  [1. 0. 0. ... 0. 0. 0.]\n",
      "  [0. 0. 0. ... 0. 0. 0.]\n",
      "  [0. 0. 0. ... 0. 0. 0.]]\n",
      "\n",
      " [[1. 0. 0. ... 0. 0. 0.]\n",
      "  [0. 0. 0. ... 0. 0. 0.]\n",
      "  [0. 0. 0. ... 0. 0. 0.]\n",
      "  ...\n",
      "  [0. 0. 0. ... 0. 0. 0.]\n",
      "  [1. 0. 0. ... 0. 0. 0.]\n",
      "  [0. 0. 0. ... 0. 0. 0.]]\n",
      "\n",
      " [[0. 0. 0. ... 0. 0. 0.]\n",
      "  [0. 0. 0. ... 0. 0. 0.]\n",
      "  [0. 0. 0. ... 0. 0. 0.]\n",
      "  ...\n",
      "  [0. 0. 0. ... 0. 0. 0.]\n",
      "  [0. 0. 0. ... 0. 0. 0.]\n",
      "  [1. 0. 0. ... 0. 0. 0.]]\n",
      "\n",
      " ...\n",
      "\n",
      " [[0. 0. 0. ... 0. 0. 0.]\n",
      "  [0. 0. 0. ... 0. 0. 0.]\n",
      "  [0. 0. 0. ... 0. 0. 0.]\n",
      "  ...\n",
      "  [0. 0. 0. ... 0. 0. 0.]\n",
      "  [0. 0. 0. ... 0. 0. 0.]\n",
      "  [1. 0. 0. ... 0. 0. 0.]]\n",
      "\n",
      " [[0. 0. 0. ... 0. 0. 0.]\n",
      "  [0. 0. 0. ... 0. 0. 0.]\n",
      "  [0. 0. 0. ... 0. 0. 0.]\n",
      "  ...\n",
      "  [0. 0. 0. ... 0. 0. 0.]\n",
      "  [0. 0. 0. ... 0. 0. 0.]\n",
      "  [0. 0. 0. ... 0. 0. 0.]]\n",
      "\n",
      " [[0. 0. 0. ... 0. 0. 0.]\n",
      "  [0. 0. 0. ... 0. 0. 0.]\n",
      "  [0. 0. 0. ... 0. 0. 0.]\n",
      "  ...\n",
      "  [0. 0. 0. ... 0. 0. 0.]\n",
      "  [0. 1. 0. ... 0. 0. 0.]\n",
      "  [0. 0. 0. ... 0. 0. 0.]]], shape=(32, 100, 39), dtype=float32)\n",
      "Y_batch: tf.Tensor(\n",
      "[[ 0  8  1 ... 12  4  5]\n",
      " [16  6  3 ...  0  5  9]\n",
      " [15 17  0 ... 15  0  6]\n",
      " ...\n",
      " [23 10  5 ...  8  0  2]\n",
      " [10 16  3 ...  9 12  7]\n",
      " [12  4  9 ...  1  8  0]], shape=(32, 100), dtype=int32)\n",
      "(32, 100, 39) (32, 100)\n"
     ]
    }
   ],
   "source": [
    "for x,y in dataset.take(1):\n",
    "    print('\\nX_batch:',x)\n",
    "    print('Y_batch:',y)\n",
    "    print(x.shape, y.shape)"
   ]
  },
  {
   "cell_type": "code",
   "execution_count": 150,
   "metadata": {},
   "outputs": [
    {
     "name": "stdout",
     "output_type": "stream",
     "text": [
      "Model: \"sequential_8\"\n",
      "_________________________________________________________________\n",
      "Layer (type)                 Output Shape              Param #   \n",
      "=================================================================\n",
      "gru_9 (GRU)                  (None, None, 64)          20160     \n",
      "_________________________________________________________________\n",
      "time_distributed_8 (TimeDist (None, None, 39)          2535      \n",
      "=================================================================\n",
      "Total params: 22,695\n",
      "Trainable params: 22,695\n",
      "Non-trainable params: 0\n",
      "_________________________________________________________________\n"
     ]
    }
   ],
   "source": [
    "model = keras.models.Sequential([\n",
    "    keras.layers.GRU(64, return_sequences=True, input_shape=[None, max_id],\n",
    "                     dropout=0.2),\n",
    "    keras.layers.TimeDistributed(keras.layers.Dense(max_id,\n",
    "                                                    activation=\"softmax\"))\n",
    "])\n",
    "model.compile(loss=\"sparse_categorical_crossentropy\", optimizer=\"adam\")\n",
    "model.summary()"
   ]
  },
  {
   "cell_type": "code",
   "execution_count": 151,
   "metadata": {},
   "outputs": [
    {
     "name": "stdout",
     "output_type": "stream",
     "text": [
      "Train for 5228 steps\n",
      "Epoch 1/2\n",
      "5228/5228 [==============================] - 184s 35ms/step - loss: 2.0332\n",
      "Epoch 2/2\n",
      "5228/5228 [==============================] - 170s 33ms/step - loss: 1.8139\n"
     ]
    }
   ],
   "source": [
    "with tf.device('/device:GPU:0'):\n",
    "    history = model.fit(dataset, steps_per_epoch=train_size // batch_size,\n",
    "                    epochs=2)"
   ]
  },
  {
   "cell_type": "code",
   "execution_count": 153,
   "metadata": {},
   "outputs": [],
   "source": [
    "def preprocess(texts):\n",
    "    X = np.array(tokenizer.texts_to_sequences(texts)) - 1\n",
    "    return tf.one_hot(X, max_id)"
   ]
  },
  {
   "cell_type": "code",
   "execution_count": 156,
   "metadata": {},
   "outputs": [
    {
     "data": {
      "text/plain": [
       "array([[ 1, 13,  0,  2,  9,  1,  0,  2,  3, 13]], dtype=int64)"
      ]
     },
     "execution_count": 156,
     "metadata": {},
     "output_type": "execute_result"
    }
   ],
   "source": [
    "X_new = preprocess([\"How are yo\"])\n",
    "Y_pred = model.predict_classes(X_new)\n",
    "Y_pred"
   ]
  },
  {
   "cell_type": "code",
   "execution_count": 162,
   "metadata": {},
   "outputs": [
    {
     "data": {
      "text/plain": [
       "'u'"
      ]
     },
     "execution_count": 162,
     "metadata": {},
     "output_type": "execute_result"
    }
   ],
   "source": [
    "tokenizer.sequences_to_texts(Y_pred + 1)[0][-1] # 1st sentence, last char"
   ]
  },
  {
   "cell_type": "code",
   "execution_count": 138,
   "metadata": {},
   "outputs": [],
   "source": [
    "def next_char(text, temperature=1):\n",
    "    X_new = preprocess([text])\n",
    "    y_proba = model.predict(X_new)[0, -1:, :]\n",
    "    rescaled_logits = tf.math.log(y_proba) / temperature\n",
    "    char_id = tf.random.categorical(rescaled_logits, num_samples=1) + 1\n",
    "    return tokenizer.sequences_to_texts(char_id.numpy())[0]"
   ]
  },
  {
   "cell_type": "code",
   "execution_count": 163,
   "metadata": {},
   "outputs": [
    {
     "data": {
      "text/plain": [
       "'u'"
      ]
     },
     "execution_count": 163,
     "metadata": {},
     "output_type": "execute_result"
    }
   ],
   "source": [
    "tf.random.set_seed(42)\n",
    "\n",
    "next_char(\"How are yo\", temperature=1)"
   ]
  },
  {
   "cell_type": "code",
   "execution_count": 187,
   "metadata": {},
   "outputs": [],
   "source": [
    "def complete_text(text, n_chars=50, temperature=1):\n",
    "    for _ in range(n_chars):\n",
    "        text += next_char(text, temperature)\n",
    "    return text"
   ]
  },
  {
   "cell_type": "code",
   "execution_count": 166,
   "metadata": {},
   "outputs": [
    {
     "name": "stdout",
     "output_type": "stream",
     "text": [
      "tycc ba\n",
      "doveay enerobpance, cra\n",
      "vijoevins! drazeryp\n"
     ]
    }
   ],
   "source": [
    "print(complete_text(\"t\", temperature=2))"
   ]
  },
  {
   "cell_type": "markdown",
   "metadata": {},
   "source": [
    "## Stateful RNN"
   ]
  },
  {
   "cell_type": "code",
   "execution_count": 152,
   "metadata": {},
   "outputs": [],
   "source": [
    "dataset = tf.data.Dataset.from_tensor_slices(encoded[:train_size])\n",
    "dataset = dataset.window(windows_length, shift=n_steps, drop_remainder=True)\n",
    "dataset = dataset.flat_map(lambda window: window.batch(windows_length))\n",
    "dataset = dataset.repeat().batch(1)\n",
    "dataset = dataset.map(lambda window: (window[:-1], window[1:]))\n",
    "dataset = dataset.map(lambda X_batch, y_batch:\n",
    "                                         (tf.one_hot(X_batch, depth=max_id), y_batch))\n",
    "dataset = dataset.prefetch(1)"
   ]
  },
  {
   "cell_type": "code",
   "execution_count": 168,
   "metadata": {},
   "outputs": [],
   "source": [
    "batch_size = 32\n",
    "encoded_parts = np.array_split(encoded[:train_size], batch_size)\n",
    "datasets = []\n",
    "for encoded_part in encoded_parts:\n",
    "    dataset = tf.data.Dataset.from_tensor_slices(encoded_part)\n",
    "    dataset = dataset.window(windows_length, shift=n_steps, drop_remainder=True)\n",
    "    dataset = dataset.flat_map(lambda window: window.batch(windows_length))\n",
    "    datasets.append(dataset)\n",
    "\n",
    "dataset = tf.data.Dataset.zip(tuple(datasets)).map(lambda *windows: tf.stack(windows))\n",
    "dataset = dataset.repeat().map(lambda windows: (windows[:, :-1], windows[:, 1:]))\n",
    "dataset = dataset.map(\n",
    "    lambda X_batch, Y_batch: (tf.one_hot(X_batch, depth=max_id), Y_batch))\n",
    "dataset = dataset.prefetch(1)"
   ]
  },
  {
   "cell_type": "code",
   "execution_count": 177,
   "metadata": {},
   "outputs": [],
   "source": [
    "model = keras.models.Sequential([\n",
    "    keras.layers.GRU(128, return_sequences=True, stateful=True,\n",
    "                     dropout=0.2, recurrent_dropout=0.2,\n",
    "                     batch_input_shape=[batch_size, None, max_id]),\n",
    "    keras.layers.GRU(64, return_sequences=True, stateful=True,\n",
    "                     dropout=0.2, recurrent_dropout=0.2),\n",
    "    keras.layers.TimeDistributed(keras.layers.Dense(max_id,\n",
    "                                                    activation=\"softmax\"))\n",
    "])"
   ]
  },
  {
   "cell_type": "code",
   "execution_count": 178,
   "metadata": {},
   "outputs": [
    {
     "name": "stdout",
     "output_type": "stream",
     "text": [
      "Model: \"sequential_12\"\n",
      "_________________________________________________________________\n",
      "Layer (type)                 Output Shape              Param #   \n",
      "=================================================================\n",
      "gru_16 (GRU)                 (32, None, 128)           64896     \n",
      "_________________________________________________________________\n",
      "gru_17 (GRU)                 (32, None, 64)            37248     \n",
      "_________________________________________________________________\n",
      "time_distributed_12 (TimeDis (None, None, 39)          2535      \n",
      "=================================================================\n",
      "Total params: 104,679\n",
      "Trainable params: 104,679\n",
      "Non-trainable params: 0\n",
      "_________________________________________________________________\n"
     ]
    }
   ],
   "source": [
    "model.summary()"
   ]
  },
  {
   "cell_type": "code",
   "execution_count": 179,
   "metadata": {},
   "outputs": [],
   "source": [
    "class ResetStatesCallback(keras.callbacks.Callback):\n",
    "    def on_epoch_begin(self, epoch, logs):\n",
    "        self.model.reset_states()"
   ]
  },
  {
   "cell_type": "code",
   "execution_count": 181,
   "metadata": {},
   "outputs": [
    {
     "name": "stdout",
     "output_type": "stream",
     "text": [
      "Train for 52 steps\n",
      "Epoch 1/7\n",
      "52/52 [==============================] - 48s 924ms/step - loss: 3.6636\n",
      "Epoch 2/7\n",
      "52/52 [==============================] - 40s 772ms/step - loss: 3.6636\n",
      "Epoch 3/7\n",
      "52/52 [==============================] - 39s 750ms/step - loss: 3.6636\n",
      "Epoch 4/7\n",
      "52/52 [==============================] - 38s 735ms/step - loss: 3.6636\n",
      "Epoch 5/7\n",
      "52/52 [==============================] - 39s 755ms/step - loss: 3.6636\n",
      "Epoch 6/7\n",
      "52/52 [==============================] - 38s 730ms/step - loss: 3.6636\n",
      "Epoch 7/7\n",
      "52/52 [==============================] - 38s 729ms/step - loss: 3.6636\n"
     ]
    }
   ],
   "source": [
    "with tf.device('/device:GPU:0'):\n",
    "    model.compile(loss=\"sparse_categorical_crossentropy\", optimizer=\"adam\")\n",
    "    steps_per_epoch = train_size // batch_size // n_steps   # Becoz shift=m_steps (train_size/(n_steps*batch_size))\n",
    "    history = model.fit(dataset, steps_per_epoch=steps_per_epoch, epochs=7,\n",
    "                        callbacks=[ResetStatesCallback()])"
   ]
  },
  {
   "cell_type": "code",
   "execution_count": 182,
   "metadata": {},
   "outputs": [],
   "source": [
    "stateless_model = keras.models.Sequential([\n",
    "    keras.layers.GRU(128, return_sequences=True, input_shape=[None, max_id]),\n",
    "    keras.layers.GRU(64, return_sequences=True),\n",
    "    keras.layers.TimeDistributed(keras.layers.Dense(max_id,\n",
    "                                                    activation=\"softmax\"))\n",
    "])"
   ]
  },
  {
   "cell_type": "code",
   "execution_count": 183,
   "metadata": {},
   "outputs": [],
   "source": [
    "stateless_model.build(tf.TensorShape([None, None, max_id]))"
   ]
  },
  {
   "cell_type": "code",
   "execution_count": 184,
   "metadata": {},
   "outputs": [],
   "source": [
    "stateless_model.set_weights(model.get_weights())\n",
    "model = stateless_model"
   ]
  },
  {
   "cell_type": "markdown",
   "metadata": {},
   "source": [
    "# Sentiment Analysis"
   ]
  },
  {
   "cell_type": "code",
   "execution_count": 4,
   "metadata": {},
   "outputs": [
    {
     "name": "stdout",
     "output_type": "stream",
     "text": [
      "Downloading data from https://storage.googleapis.com/tensorflow/tf-keras-datasets/imdb.npz\n",
      "17465344/17464789 [==============================] - 121s 7us/step\n"
     ]
    }
   ],
   "source": [
    "(X_train, y_test), (X_valid, y_test) = keras.datasets.imdb.load_data()"
   ]
  },
  {
   "cell_type": "code",
   "execution_count": 54,
   "metadata": {},
   "outputs": [
    {
     "data": {
      "text/plain": [
       "[1, 14, 22, 16, 43, 530, 973, 1622, 1385, 65]"
      ]
     },
     "execution_count": 54,
     "metadata": {},
     "output_type": "execute_result"
    }
   ],
   "source": [
    "X_train[0][:10]"
   ]
  },
  {
   "cell_type": "code",
   "execution_count": 58,
   "metadata": {},
   "outputs": [
    {
     "name": "stdout",
     "output_type": "stream",
     "text": [
      "Downloading data from https://storage.googleapis.com/tensorflow/tf-keras-datasets/imdb_word_index.json\n",
      "1646592/1641221 [==============================] - 36s 22us/step\n"
     ]
    },
    {
     "data": {
      "text/plain": [
       "\"<sos> this film was just brilliant casting location scenery story direction everyone's really suited the part they played and you could just imagine being there robert redford's is an amazing actor and now the same being director norman's father came from the same scottish island as myself so i loved the fact there was a real connection with this film the witty remarks throughout the film were great it was just brilliant so much that i bought the film as soon as it was released for retail and would recommend it to everyone to watch and the fly fishing was amazing really cried at the end it was so sad and you know what they say if you cry at a film it must have been good and this definitely was also congratulations to the two little boy's that played the part's of norman and paul they were just brilliant children are often left out of the praising list i think because the stars that play them all grown up are such a big profile for the whole film but these children are amazing and should be praised for what they have done don't you think the whole story was so lovely because it was true and was someone's life after all that was shared with us all\""
      ]
     },
     "execution_count": 58,
     "metadata": {},
     "output_type": "execute_result"
    }
   ],
   "source": [
    "word_idx = keras.datasets.imdb.get_word_index()\n",
    "id2word = {id_+ 3 : word for word, id_ in word_idx.items()}\n",
    "for id_, word in enumerate(('<pad>', '<sos>', '<unk>')):\n",
    "    id2word[id_]=word\n",
    "\n",
    "' '.join([id2word[id_] for id_ in X_train[0]])"
   ]
  },
  {
   "cell_type": "code",
   "execution_count": 5,
   "metadata": {},
   "outputs": [
    {
     "name": "stdout",
     "output_type": "stream",
     "text": [
      "\u001b[1mDownloading and preparing dataset imdb_reviews/plain_text/1.0.0 (download: 80.23 MiB, generated: Unknown size, total: 80.23 MiB) to C:\\Users\\user\\tensorflow_datasets\\imdb_reviews\\plain_text\\1.0.0...\u001b[0m\n"
     ]
    },
    {
     "data": {
      "application/vnd.jupyter.widget-view+json": {
       "model_id": "8d9f4fbae8fa4c388741524602db35da",
       "version_major": 2,
       "version_minor": 0
      },
      "text/plain": [
       "HBox(children=(FloatProgress(value=1.0, bar_style='info', description='Dl Completed...', max=1.0, style=Progre…"
      ]
     },
     "metadata": {},
     "output_type": "display_data"
    },
    {
     "data": {
      "application/vnd.jupyter.widget-view+json": {
       "model_id": "f4aadf6c9b19485797588d8a484c728a",
       "version_major": 2,
       "version_minor": 0
      },
      "text/plain": [
       "HBox(children=(FloatProgress(value=1.0, bar_style='info', description='Dl Size...', max=1.0, style=ProgressSty…"
      ]
     },
     "metadata": {},
     "output_type": "display_data"
    },
    {
     "name": "stdout",
     "output_type": "stream",
     "text": [
      "\n",
      "\n",
      "\n",
      "\n"
     ]
    },
    {
     "data": {
      "application/vnd.jupyter.widget-view+json": {
       "model_id": "",
       "version_major": 2,
       "version_minor": 0
      },
      "text/plain": [
       "HBox(children=(FloatProgress(value=1.0, bar_style='info', max=1.0), HTML(value='')))"
      ]
     },
     "metadata": {},
     "output_type": "display_data"
    },
    {
     "name": "stdout",
     "output_type": "stream",
     "text": [
      "Shuffling and writing examples to C:\\Users\\user\\tensorflow_datasets\\imdb_reviews\\plain_text\\1.0.0.incompleteHI5H61\\imdb_reviews-train.tfrecord\n"
     ]
    },
    {
     "data": {
      "application/vnd.jupyter.widget-view+json": {
       "model_id": "3e0c7ea88e5049c29a77f056fdeffa02",
       "version_major": 2,
       "version_minor": 0
      },
      "text/plain": [
       "HBox(children=(FloatProgress(value=0.0, max=25000.0), HTML(value='')))"
      ]
     },
     "metadata": {},
     "output_type": "display_data"
    },
    {
     "data": {
      "application/vnd.jupyter.widget-view+json": {
       "model_id": "",
       "version_major": 2,
       "version_minor": 0
      },
      "text/plain": [
       "HBox(children=(FloatProgress(value=1.0, bar_style='info', max=1.0), HTML(value='')))"
      ]
     },
     "metadata": {},
     "output_type": "display_data"
    },
    {
     "name": "stdout",
     "output_type": "stream",
     "text": [
      "Shuffling and writing examples to C:\\Users\\user\\tensorflow_datasets\\imdb_reviews\\plain_text\\1.0.0.incompleteHI5H61\\imdb_reviews-test.tfrecord\n"
     ]
    },
    {
     "data": {
      "application/vnd.jupyter.widget-view+json": {
       "model_id": "0b483b0feede4ce2af6d08a3e9e1f3c5",
       "version_major": 2,
       "version_minor": 0
      },
      "text/plain": [
       "HBox(children=(FloatProgress(value=0.0, max=25000.0), HTML(value='')))"
      ]
     },
     "metadata": {},
     "output_type": "display_data"
    },
    {
     "data": {
      "application/vnd.jupyter.widget-view+json": {
       "model_id": "",
       "version_major": 2,
       "version_minor": 0
      },
      "text/plain": [
       "HBox(children=(FloatProgress(value=1.0, bar_style='info', max=1.0), HTML(value='')))"
      ]
     },
     "metadata": {},
     "output_type": "display_data"
    },
    {
     "name": "stdout",
     "output_type": "stream",
     "text": [
      "Shuffling and writing examples to C:\\Users\\user\\tensorflow_datasets\\imdb_reviews\\plain_text\\1.0.0.incompleteHI5H61\\imdb_reviews-unsupervised.tfrecord\n"
     ]
    },
    {
     "data": {
      "application/vnd.jupyter.widget-view+json": {
       "model_id": "baf581f3a1df4188ad70d70a12902136",
       "version_major": 2,
       "version_minor": 0
      },
      "text/plain": [
       "HBox(children=(FloatProgress(value=0.0, max=50000.0), HTML(value='')))"
      ]
     },
     "metadata": {},
     "output_type": "display_data"
    },
    {
     "name": "stdout",
     "output_type": "stream",
     "text": [
      "\u001b[1mDataset imdb_reviews downloaded and prepared to C:\\Users\\user\\tensorflow_datasets\\imdb_reviews\\plain_text\\1.0.0. Subsequent calls will reuse this data.\u001b[0m\n"
     ]
    }
   ],
   "source": [
    "import tensorflow_datasets as tfds\n",
    "\n",
    "datasets, info = tfds.load(\"imdb_reviews\", as_supervised=True, with_info=True)"
   ]
  },
  {
   "cell_type": "code",
   "execution_count": 6,
   "metadata": {},
   "outputs": [
    {
     "data": {
      "text/plain": [
       "dict_keys(['test', 'train', 'unsupervised'])"
      ]
     },
     "execution_count": 6,
     "metadata": {},
     "output_type": "execute_result"
    }
   ],
   "source": [
    "datasets.keys()"
   ]
  },
  {
   "cell_type": "code",
   "execution_count": 7,
   "metadata": {},
   "outputs": [
    {
     "data": {
      "text/plain": [
       "(25000, 25000)"
      ]
     },
     "execution_count": 7,
     "metadata": {},
     "output_type": "execute_result"
    }
   ],
   "source": [
    "train_size = info.splits['train'].num_examples\n",
    "test_size = info.splits['test'].num_examples\n",
    "train_size, test_size"
   ]
  },
  {
   "cell_type": "code",
   "execution_count": 10,
   "metadata": {},
   "outputs": [
    {
     "name": "stdout",
     "output_type": "stream",
     "text": [
      "Review:  This is a big step down after the surprisingly enjoyable original. This sequel isn't nearly as fun as part one, and it instead spends too much time on plot development. Tim Thomerson is still the best thing about this series, but his wisecracking is  .....\n",
      "Label:  0 \n",
      "\n",
      "Review:  Perhaps because I was so young, innocent and BRAINWASHED when I saw it, this movie was the cause of many sleepless nights for me. I haven't seen it since I was in seventh grade at a Presbyterian school, so I am not sure what effect it would have on m .....\n",
      "Label:  0 \n",
      "\n"
     ]
    }
   ],
   "source": [
    "for X_batch, y_batch in datasets['train'].batch(2).take(1):\n",
    "    for review, label in zip(X_batch.numpy(), y_batch.numpy()):\n",
    "        print('Review: ', review.decode('utf-8')[:250],'.....')\n",
    "        print('Label: ', label, '\\n')"
   ]
  },
  {
   "cell_type": "code",
   "execution_count": 15,
   "metadata": {},
   "outputs": [],
   "source": [
    "def preprocess(X_batch, y_batch):\n",
    "    X_batch = tf.strings.substr(X_batch, 0, 300)\n",
    "    X_batch = tf.strings.regex_replace(X_batch, b'<br\\s*/?>', b' ')\n",
    "    X_batch = tf.strings.regex_replace(X_batch, b'[^a-zA-Z]', b' ')\n",
    "    X_batch = tf.strings.split(X_batch)\n",
    "    return X_batch.to_tensor(default_value='<pad>'), y_batch"
   ]
  },
  {
   "cell_type": "code",
   "execution_count": 16,
   "metadata": {},
   "outputs": [
    {
     "data": {
      "text/plain": [
       "(<tf.Tensor: id=394, shape=(2, 61), dtype=string, numpy=\n",
       " array([[b'This', b'is', b'a', b'big', b'step', b'down', b'after', b'the',\n",
       "         b'surprisingly', b'enjoyable', b'original', b'This', b'sequel',\n",
       "         b'isn', b't', b'nearly', b'as', b'fun', b'as', b'part', b'one',\n",
       "         b'and', b'it', b'instead', b'spends', b'too', b'much', b'time',\n",
       "         b'on', b'plot', b'development', b'Tim', b'Thomerson', b'is',\n",
       "         b'still', b'the', b'best', b'thing', b'about', b'this',\n",
       "         b'series', b'but', b'his', b'wisecracking', b'is', b'toned',\n",
       "         b'down', b'in', b'this', b'entry', b'The', b'performances',\n",
       "         b'are', b'all', b'<pad>', b'<pad>', b'<pad>', b'<pad>', b'<pad>',\n",
       "         b'<pad>', b'<pad>'],\n",
       "        [b'Perhaps', b'because', b'I', b'was', b'so', b'young',\n",
       "         b'innocent', b'and', b'BRAINWASHED', b'when', b'I', b'saw',\n",
       "         b'it', b'this', b'movie', b'was', b'the', b'cause', b'of',\n",
       "         b'many', b'sleepless', b'nights', b'for', b'me', b'I', b'haven',\n",
       "         b't', b'seen', b'it', b'since', b'I', b'was', b'in', b'seventh',\n",
       "         b'grade', b'at', b'a', b'Presbyterian', b'school', b'so', b'I',\n",
       "         b'am', b'not', b'sure', b'what', b'effect', b'it', b'would',\n",
       "         b'have', b'on', b'me', b'now', b'However', b'I', b'will', b'say',\n",
       "         b'that', b'it', b'left', b'an', b'impress']], dtype=object)>,\n",
       " <tf.Tensor: id=213, shape=(2,), dtype=int64, numpy=array([0, 0], dtype=int64)>)"
      ]
     },
     "execution_count": 16,
     "metadata": {},
     "output_type": "execute_result"
    }
   ],
   "source": [
    "preprocess(X_batch, y_batch)"
   ]
  },
  {
   "cell_type": "code",
   "execution_count": 17,
   "metadata": {},
   "outputs": [],
   "source": [
    "from collections import Counter\n",
    "\n",
    "vocabulary = Counter()\n",
    "for X_batch, y_batch in datasets['train'].batch(32).map(preprocess):\n",
    "    for review in X_batch:\n",
    "        vocabulary.update(list(review.numpy()))"
   ]
  },
  {
   "cell_type": "code",
   "execution_count": 18,
   "metadata": {},
   "outputs": [
    {
     "data": {
      "text/plain": [
       "[(b'<pad>', 223998),\n",
       " (b'the', 61156),\n",
       " (b'a', 38569),\n",
       " (b'of', 33984),\n",
       " (b'and', 33432)]"
      ]
     },
     "execution_count": 18,
     "metadata": {},
     "output_type": "execute_result"
    }
   ],
   "source": [
    "vocabulary.most_common()[:5]"
   ]
  },
  {
   "cell_type": "code",
   "execution_count": 19,
   "metadata": {},
   "outputs": [
    {
     "data": {
      "text/plain": [
       "49739"
      ]
     },
     "execution_count": 19,
     "metadata": {},
     "output_type": "execute_result"
    }
   ],
   "source": [
    "len(vocabulary)"
   ]
  },
  {
   "cell_type": "code",
   "execution_count": 35,
   "metadata": {},
   "outputs": [
    {
     "data": {
      "text/plain": [
       "([b'<pad>', b'the', b'a', b'of', b'and'], 10000)"
      ]
     },
     "execution_count": 35,
     "metadata": {},
     "output_type": "execute_result"
    }
   ],
   "source": [
    "vocab_size = 10000\n",
    "truncated_vocabulary = [word for word, count in vocabulary.most_common()[:vocab_size]]\n",
    "truncated_vocabulary[:5], len(truncated_vocabulary)"
   ]
  },
  {
   "cell_type": "code",
   "execution_count": 42,
   "metadata": {},
   "outputs": [],
   "source": [
    "word_to_id = {word: idx for idx, word in enumerate(truncated_vocabulary)}"
   ]
  },
  {
   "cell_type": "code",
   "execution_count": 44,
   "metadata": {},
   "outputs": [
    {
     "name": "stdout",
     "output_type": "stream",
     "text": [
      "24\t12\t108\t105\t10000\t"
     ]
    }
   ],
   "source": [
    "for word in b\"This movie we do itt\".split():\n",
    "    print(word_to_id.get(word) or vocab_size, end='\\t')"
   ]
  },
  {
   "cell_type": "code",
   "execution_count": 47,
   "metadata": {},
   "outputs": [],
   "source": [
    "words=tf.constant(truncated_vocabulary)\n",
    "word_ids = tf.range(len(truncated_vocabulary), dtype=tf.int64)\n",
    "vocab_init = tf.lookup.KeyValueTensorInitializer(words, word_ids)\n",
    "oov_buckets=1000\n",
    "table = tf.lookup.StaticVocabularyTable(vocab_init, oov_buckets)"
   ]
  },
  {
   "cell_type": "code",
   "execution_count": 48,
   "metadata": {},
   "outputs": [
    {
     "data": {
      "text/plain": [
       "<tf.Tensor: id=102106, shape=(1, 4), dtype=int64, numpy=array([[   24,    12,    13, 10053]], dtype=int64)>"
      ]
     },
     "execution_count": 48,
     "metadata": {},
     "output_type": "execute_result"
    }
   ],
   "source": [
    "table.lookup(tf.constant([b\"This movie was faaaaaantastic\".split()]))"
   ]
  },
  {
   "cell_type": "code",
   "execution_count": 49,
   "metadata": {},
   "outputs": [],
   "source": [
    "def encode_words(X_batch, y_batch):\n",
    "    return table.lookup(X_batch), y_batch\n",
    "\n",
    "train_set = datasets[\"train\"].repeat().batch(32).map(preprocess)\n",
    "train_set = train_set.map(encode_words).prefetch(1)"
   ]
  },
  {
   "cell_type": "code",
   "execution_count": 50,
   "metadata": {},
   "outputs": [
    {
     "name": "stdout",
     "output_type": "stream",
     "text": [
      "tf.Tensor(\n",
      "[[   24     7     2 ...     0     0     0]\n",
      " [ 1230    83     5 ...    31  4258     0]\n",
      " [ 4112     3     1 ...     0     0     0]\n",
      " ...\n",
      " [   24     7    25 ...     0     0     0]\n",
      " [ 1292  3544     7 ...     0     0     0]\n",
      " [10928 10687  4552 ...     0     0     0]], shape=(32, 62), dtype=int64)\n",
      "tf.Tensor([0 0 1 0 1 0 1 1 1 0 0 0 0 0 0 0 1 0 0 1 0 0 1 1 1 0 1 0 0 1 1 1], shape=(32,), dtype=int64)\n"
     ]
    }
   ],
   "source": [
    "for X_batch, y_batch in train_set.take(1):\n",
    "    print(X_batch)\n",
    "    print(y_batch)"
   ]
  },
  {
   "cell_type": "code",
   "execution_count": 61,
   "metadata": {},
   "outputs": [],
   "source": [
    "valid_set = datasets['test'].take(2000).repeat().batch(32).map(preprocess)\n",
    "valid_set = valid_set.map(encode_words).prefetch(1)"
   ]
  },
  {
   "cell_type": "code",
   "execution_count": 70,
   "metadata": {},
   "outputs": [
    {
     "name": "stdout",
     "output_type": "stream",
     "text": [
      "tf.Tensor(\n",
      "[[  29 1794   17 ...    0    0    0]\n",
      " [   5  264  254 ...    0    0    0]\n",
      " [  24  323   16 ...    0    0    0]\n",
      " ...\n",
      " [  15   95  167 ...    0    0    0]\n",
      " [ 159    7  340 ...    0    0    0]\n",
      " [   5  100   10 ...    2  105    0]], shape=(32, 62), dtype=int64) tf.Tensor([1 0 1 0 0 0 1 1 1 0 0 1 0 0 1 0 0 0 1 1 0 0 1 0 0 0 0 0 1 1 0 1], shape=(32,), dtype=int64)\n"
     ]
    }
   ],
   "source": [
    "for x, y in valid_set.take(1):\n",
    "    print(x,y)"
   ]
  },
  {
   "cell_type": "code",
   "execution_count": 64,
   "metadata": {},
   "outputs": [
    {
     "name": "stdout",
     "output_type": "stream",
     "text": [
      "Model: \"sequential_2\"\n",
      "_________________________________________________________________\n",
      "Layer (type)                 Output Shape              Param #   \n",
      "=================================================================\n",
      "embedding_2 (Embedding)      (None, None, 128)         1408000   \n",
      "_________________________________________________________________\n",
      "gru_4 (GRU)                  (None, None, 64)          37248     \n",
      "_________________________________________________________________\n",
      "gru_5 (GRU)                  (None, 32)                9408      \n",
      "_________________________________________________________________\n",
      "dense_2 (Dense)              (None, 1)                 33        \n",
      "=================================================================\n",
      "Total params: 1,454,689\n",
      "Trainable params: 1,454,689\n",
      "Non-trainable params: 0\n",
      "_________________________________________________________________\n"
     ]
    }
   ],
   "source": [
    "embed_size = 128\n",
    "model = keras.models.Sequential([\n",
    "# mask_zero=True means word that mapped as 0 is gonna get neglect in its time step and previous hidden state would be moved\n",
    "    keras.layers.Embedding(vocab_size + oov_buckets, embed_size, mask_zero=True, input_shape=[None]),\n",
    "    keras.layers.GRU(64, return_sequences=True),\n",
    "    keras.layers.GRU(32),\n",
    "    keras.layers.Dense(1, activation=\"sigmoid\")\n",
    "])\n",
    "\n",
    "root_dir = os.path.join(os.curdir, 'my_logs')\n",
    "tensorboard_callback = keras.callbacks.TensorBoard(root_dir)\n",
    "model.compile(loss=\"binary_crossentropy\", optimizer=\"adam\", metrics=[\"accuracy\"])\n",
    "model.summary()"
   ]
  },
  {
   "cell_type": "code",
   "execution_count": 72,
   "metadata": {},
   "outputs": [
    {
     "name": "stdout",
     "output_type": "stream",
     "text": [
      "Train for 781 steps, validate for 62 steps\n",
      "Epoch 1/5\n",
      "781/781 [==============================] - 117s 150ms/step - loss: 0.5327 - accuracy: 0.7284 - val_loss: 0.4999 - val_accuracy: 0.7591\n",
      "Epoch 2/5\n",
      "781/781 [==============================] - 74s 95ms/step - loss: 0.3502 - accuracy: 0.8581 - val_loss: 0.5479 - val_accuracy: 0.7480\n",
      "Epoch 3/5\n",
      "781/781 [==============================] - 70s 89ms/step - loss: 0.2095 - accuracy: 0.9255 - val_loss: 0.6583 - val_accuracy: 0.7329\n",
      "Epoch 4/5\n",
      "781/781 [==============================] - 66s 85ms/step - loss: 0.1521 - accuracy: 0.9461 - val_loss: 0.7532 - val_accuracy: 0.7349\n",
      "Epoch 5/5\n",
      "781/781 [==============================] - 61s 78ms/step - loss: 0.0965 - accuracy: 0.9683 - val_loss: 1.0095 - val_accuracy: 0.7389\n"
     ]
    }
   ],
   "source": [
    "history = model.fit(train_set, steps_per_epoch = train_size//32,\n",
    "                    validation_data=valid_set, validation_steps=2000//32,\n",
    "                    epochs=5, callbacks=[tensorboard_callback])"
   ]
  },
  {
   "cell_type": "code",
   "execution_count": 82,
   "metadata": {},
   "outputs": [
    {
     "name": "stdout",
     "output_type": "stream",
     "text": [
      "Model: \"model_3\"\n",
      "__________________________________________________________________________________________________\n",
      "Layer (type)                    Output Shape         Param #     Connected to                     \n",
      "==================================================================================================\n",
      "input_7 (InputLayer)            [(None, None)]       0                                            \n",
      "__________________________________________________________________________________________________\n",
      "embedding_7 (Embedding)         (None, None, 128)    1408000     input_7[0][0]                    \n",
      "__________________________________________________________________________________________________\n",
      "lambda_6 (Lambda)               (None, None)         0           input_7[0][0]                    \n",
      "__________________________________________________________________________________________________\n",
      "gru_14 (GRU)                    (None, None, 64)     37248       embedding_7[0][0]                \n",
      "__________________________________________________________________________________________________\n",
      "gru_15 (GRU)                    (None, 32)           9408        gru_14[0][0]                     \n",
      "__________________________________________________________________________________________________\n",
      "dense_6 (Dense)                 (None, 1)            33          gru_15[0][0]                     \n",
      "==================================================================================================\n",
      "Total params: 1,454,689\n",
      "Trainable params: 1,454,689\n",
      "Non-trainable params: 0\n",
      "__________________________________________________________________________________________________\n"
     ]
    }
   ],
   "source": [
    "K = keras.backend\n",
    "embed_size = 128\n",
    "inputs = keras.layers.Input(shape=[None])\n",
    "mask = keras.layers.Lambda(lambda inputs: K.not_equal(inputs, 0))(inputs)\n",
    "z = keras.layers.Embedding(vocab_size + oov_buckets, embed_size)(inputs)\n",
    "z = keras.layers.GRU(64, return_sequences=True)(z, mask=mask)\n",
    "z = keras.layers.GRU(32)(z, mask=mask)\n",
    "outputs = keras.layers.Dense(1, activation=\"sigmoid\")(z)\n",
    "model = keras.models.Model(inputs=[inputs], outputs=[outputs])\n",
    "\n",
    "model.compile(loss=\"binary_crossentropy\", optimizer=\"adam\", metrics=[\"accuracy\"])\n",
    "model.summary()"
   ]
  },
  {
   "cell_type": "code",
   "execution_count": 83,
   "metadata": {},
   "outputs": [
    {
     "name": "stdout",
     "output_type": "stream",
     "text": [
      "Train for 781 steps, validate for 62 steps\n",
      "Epoch 1/3\n",
      "781/781 [==============================] - 92s 118ms/step - loss: 0.5313 - accuracy: 0.7242 - val_loss: 0.4972 - val_accuracy: 0.7641\n",
      "Epoch 2/3\n",
      "781/781 [==============================] - 46s 58ms/step - loss: 0.3498 - accuracy: 0.8550 - val_loss: 0.5538 - val_accuracy: 0.7485\n",
      "Epoch 3/3\n",
      "781/781 [==============================] - 36s 47ms/step - loss: 0.2054 - accuracy: 0.9260 - val_loss: 0.6493 - val_accuracy: 0.7243\n"
     ]
    }
   ],
   "source": [
    "history = model.fit(train_set, steps_per_epoch = train_size//32,\n",
    "                    validation_data=valid_set, validation_steps=2000//32,\n",
    "                    epochs=3, callbacks=[tensorboard_callback])"
   ]
  },
  {
   "cell_type": "markdown",
   "metadata": {},
   "source": [
    "## Reusing Pretrained Embedding"
   ]
  },
  {
   "cell_type": "code",
   "execution_count": 88,
   "metadata": {},
   "outputs": [],
   "source": [
    "TFHUB_CACHE_DIR = os.path.join(os.curdir, 'my_tfhub_cache')\n",
    "os.environ['TFHUB_CACHE_DIR'] = TFHUB_CACHE_DIR"
   ]
  },
  {
   "cell_type": "code",
   "execution_count": 96,
   "metadata": {},
   "outputs": [
    {
     "name": "stdout",
     "output_type": "stream",
     "text": [
      "Model: \"sequential_8\"\n",
      "_________________________________________________________________\n",
      "Layer (type)                 Output Shape              Param #   \n",
      "=================================================================\n",
      "keras_layer_5 (KerasLayer)   (None, 50)                48190600  \n",
      "_________________________________________________________________\n",
      "dense_17 (Dense)             (None, 128)               6528      \n",
      "_________________________________________________________________\n",
      "dense_18 (Dense)             (None, 1)                 129       \n",
      "=================================================================\n",
      "Total params: 48,197,257\n",
      "Trainable params: 6,657\n",
      "Non-trainable params: 48,190,600\n",
      "_________________________________________________________________\n"
     ]
    }
   ],
   "source": [
    "import tensorflow_hub as hub\n",
    "\n",
    "model = keras.Sequential([\n",
    "    # 1 at the end means version 1\n",
    "    hub.KerasLayer(\"https://tfhub.dev/google/tf2-preview/nnlm-en-dim50/1\",\n",
    "                   dtype=tf.string, input_shape=[], output_shape=[50]),\n",
    "    keras.layers.Dense(128, activation=\"relu\"),\n",
    "    keras.layers.Dense(1, activation=\"sigmoid\")\n",
    "])\n",
    "\n",
    "model.compile(loss=\"binary_crossentropy\", optimizer=\"adam\",\n",
    "              metrics=[\"accuracy\"])\n",
    "model.summary()"
   ]
  },
  {
   "cell_type": "code",
   "execution_count": 94,
   "metadata": {},
   "outputs": [
    {
     "name": "stdout",
     "output_type": "stream",
     "text": [
      ".\\my_tfhub_cache\\82c4aaf4250ffb09088bd48368ee7fd00e5464fe.descriptor.txt\n",
      ".\\my_tfhub_cache\\82c4aaf4250ffb09088bd48368ee7fd00e5464fe\\saved_model.pb\n",
      ".\\my_tfhub_cache\\82c4aaf4250ffb09088bd48368ee7fd00e5464fe\\assets\\tokens.txt\n",
      ".\\my_tfhub_cache\\82c4aaf4250ffb09088bd48368ee7fd00e5464fe\\variables\\variables.data-00000-of-00001\n",
      ".\\my_tfhub_cache\\82c4aaf4250ffb09088bd48368ee7fd00e5464fe\\variables\\variables.index\n"
     ]
    }
   ],
   "source": [
    "for dirpath, dirname, filenames in os.walk(TFHUB_CACHE_DIR):\n",
    "    for filename in filenames:\n",
    "        print(os.path.join(dirpath, filename))"
   ]
  },
  {
   "cell_type": "code",
   "execution_count": 95,
   "metadata": {},
   "outputs": [
    {
     "name": "stdout",
     "output_type": "stream",
     "text": [
      "Train for 781 steps, validate for 62 steps\n",
      "Epoch 1/5\n",
      "781/781 [==============================] - 28s 36ms/step - loss: 0.5484 - accuracy: 0.7233 - val_loss: 0.5333 - val_accuracy: 0.7384\n",
      "Epoch 2/5\n",
      "781/781 [==============================] - 26s 33ms/step - loss: 0.5146 - accuracy: 0.7490 - val_loss: 0.5265 - val_accuracy: 0.7450\n",
      "Epoch 3/5\n",
      "781/781 [==============================] - 26s 33ms/step - loss: 0.5091 - accuracy: 0.7520 - val_loss: 0.5238 - val_accuracy: 0.7475\n",
      "Epoch 4/5\n",
      "781/781 [==============================] - 25s 31ms/step - loss: 0.5054 - accuracy: 0.7554 - val_loss: 0.5204 - val_accuracy: 0.7510\n",
      "Epoch 5/5\n",
      "781/781 [==============================] - 24s 31ms/step - loss: 0.5022 - accuracy: 0.7562 - val_loss: 0.5168 - val_accuracy: 0.7550\n"
     ]
    }
   ],
   "source": [
    "import tensorflow_datasets as tfds\n",
    "\n",
    "datasets, info = tfds.load(\"imdb_reviews\", as_supervised=True, with_info=True)\n",
    "train_size = info.splits[\"train\"].num_examples\n",
    "batch_size = 32\n",
    "train_set = datasets[\"train\"].repeat().batch(batch_size).prefetch(1)\n",
    "valid_set = datasets['test'].take(2000).repeat().batch(batch_size).prefetch(1)\n",
    "\n",
    "history = model.fit(train_set, steps_per_epoch=train_size // batch_size,\n",
    "                    validation_data=valid_set, validation_steps=2000//batch_size, epochs=5)"
   ]
  },
  {
   "cell_type": "markdown",
   "metadata": {},
   "source": [
    "# Automatic Translation"
   ]
  },
  {
   "cell_type": "code",
   "execution_count": 3,
   "metadata": {},
   "outputs": [],
   "source": [
    "vocab_size = 100\n",
    "embed_size = 10"
   ]
  },
  {
   "cell_type": "code",
   "execution_count": 12,
   "metadata": {},
   "outputs": [],
   "source": [
    "import tensorflow_addons as tfa\n",
    "\n",
    "encoder_inputs = keras.layers.Input(shape=[None], dtype=np.int32)\n",
    "decoder_inputs = keras.layers.Input(shape=[None], dtype=np.int32)\n",
    "sequence_lengths = keras.layers.Input(shape=[], dtype=np.int32)\n",
    "\n",
    "embeddings = keras.layers.Embedding(vocab_size, embed_size)\n",
    "encoder_embeddings = embeddings(encoder_inputs)\n",
    "decoder_embeddings = embeddings(decoder_inputs)\n",
    "\n",
    "encoder = keras.layers.LSTM(128, return_state=True)\n",
    "encoder_outputs, state_h, state_c = encoder(encoder_embeddings)\n",
    "encoder_state = [state_h, state_c]\n",
    "\n",
    "sampler = tfa.seq2seq.sampler.TrainingSampler()\n",
    "\n",
    "decoder_cell = keras.layers.LSTMCell(128)\n",
    "output_layer = keras.layers.Dense(vocab_size)\n",
    "decoder = tfa.seq2seq.basic_decoder.BasicDecoder(decoder_cell, sampler, output_layer=output_layer)\n",
    "\n",
    "f_output, f_state, f_seq_len = decoder(decoder_embeddings, training=True,\n",
    "                                       initial_state=encoder_state, sequence_length=sequence_lengths)\n",
    "Y_proba = tf.nn.softmax(f_output.rnn_output)\n",
    "\n",
    "model = keras.models.Model(inputs=[encoder_inputs, decoder_inputs, sequence_lengths], \n",
    "                          outputs=[Y_proba])"
   ]
  },
  {
   "cell_type": "code",
   "execution_count": 13,
   "metadata": {},
   "outputs": [
    {
     "name": "stdout",
     "output_type": "stream",
     "text": [
      "Epoch 1/2\n",
      "32/32 [==============================] - 2s 66ms/step - loss: 4.6053\n",
      "Epoch 2/2\n",
      "32/32 [==============================] - 2s 58ms/step - loss: 4.6037\n"
     ]
    }
   ],
   "source": [
    "model.compile(loss=\"sparse_categorical_crossentropy\", optimizer=\"adam\")\n",
    "\n",
    "X = np.random.randint(100, size=10*1000).reshape(1000, 10)\n",
    "Y = np.random.randint(100, size=15*1000).reshape(1000, 15)\n",
    "X_decoder = np.c_[np.zeros((1000, 1)), Y[:, :-1]]\n",
    "seq_lengths = np.full([1000], 15)\n",
    "\n",
    "history = model.fit([X, X_decoder, seq_lengths], Y, epochs=2)"
   ]
  },
  {
   "cell_type": "markdown",
   "metadata": {},
   "source": [
    "## Bidirectional Cells"
   ]
  },
  {
   "cell_type": "code",
   "execution_count": 6,
   "metadata": {},
   "outputs": [
    {
     "name": "stdout",
     "output_type": "stream",
     "text": [
      "Model: \"sequential\"\n",
      "_________________________________________________________________\n",
      "Layer (type)                 Output Shape              Param #   \n",
      "=================================================================\n",
      "gru (GRU)                    (None, None, 10)          660       \n",
      "_________________________________________________________________\n",
      "bidirectional (Bidirectional (None, None, 20)          1320      \n",
      "=================================================================\n",
      "Total params: 1,980\n",
      "Trainable params: 1,980\n",
      "Non-trainable params: 0\n",
      "_________________________________________________________________\n"
     ]
    }
   ],
   "source": [
    "model = keras.models.Sequential([\n",
    "    keras.layers.GRU(10, return_sequences=True, input_shape=[None, 10]),\n",
    "    keras.layers.Bidirectional(keras.layers.GRU(10, return_sequences=True))\n",
    "])\n",
    "\n",
    "model.summary()"
   ]
  },
  {
   "cell_type": "markdown",
   "metadata": {},
   "source": [
    "## Positional Encoding"
   ]
  },
  {
   "cell_type": "code",
   "execution_count": 21,
   "metadata": {},
   "outputs": [],
   "source": [
    "class PositionalEncoding(keras.layers.Layer):\n",
    "    def __init__(self, max_dims, max_steps, dtype=tf.float32, **kwargs):\n",
    "        super(PositionalEncoding, self).__init__(dtype=dtype, **kwargs)\n",
    "        if max_dims%2 ==1: max_dims+=1\n",
    "        p, i = np.meshgrid(np.arange(max_steps), np.arange(max_dims//2))\n",
    "        pos = np.empty((1, max_steps, max_dims))\n",
    "        pos[0, :, ::2] = np.sin(p/(10000**(2*i/max_dims))).T\n",
    "        pos[0, :, 1::2] = np.cos(p/(10000**(2*i/max_dims))).T\n",
    "        self.position_embed = tf.constant(pos.astype(dtype=self.dtype))\n",
    "    def call(self, inputs):\n",
    "        shape=tf.shape(inputs)\n",
    "        return inputs + self.position_embed[:, :shape[-2], :shape[-1]]"
   ]
  },
  {
   "cell_type": "code",
   "execution_count": 22,
   "metadata": {},
   "outputs": [],
   "source": [
    "max_steps = 201\n",
    "max_dims = 512\n",
    "pos_emb = PositionalEncoding(max_dims, max_steps)\n",
    "PE = pos_emb(np.zeros((1, max_steps, max_dims), np.float32))[0].numpy()"
   ]
  },
  {
   "cell_type": "code",
   "execution_count": 33,
   "metadata": {},
   "outputs": [
    {
     "data": {
      "image/png": "[encoded data removed]",
      "text/plain": [
       "<Figure size 864x360 with 1 Axes>"
      ]
     },
     "metadata": {
      "needs_background": "light"
     },
     "output_type": "display_data"
    }
   ],
   "source": [
    "i1, i2, crop_i = 100, 101, 150\n",
    "p1, p2, p3 = 22, 60, 35\n",
    "plt.figure(figsize=(12, 5))\n",
    "plt.plot([p1, p1], [-1, 1], \"k--\", label=\"$p = {}$\".format(p1))\n",
    "plt.plot([p2, p2], [-1, 1], \"k--\", label=\"$p = {}$\".format(p2), alpha=0.5)\n",
    "plt.plot(p3, PE[p3, i1], \"bx\", label=\"$p = {}$\".format(p3))\n",
    "plt.plot(PE[:,i1], \"b-\", label=\"$i = {}$\".format(i1))\n",
    "plt.plot(PE[:,i2], \"r-\", label=\"$i = {}$\".format(i2))\n",
    "plt.plot([p1, p2], [PE[p1, i1], PE[p2, i1]], \"bo\")\n",
    "plt.plot([p1, p2], [PE[p1, i2], PE[p2, i2]], \"ro\")\n",
    "plt.legend(loc=\"center right\", fontsize=14, framealpha=0.95)\n",
    "plt.xlim((0, 201))\n",
    "plt.ylabel(\"$P_{(p,i)}$\", rotation=0, fontsize=16)\n",
    "plt.grid(True, alpha=0.3)\n",
    "plt.hlines(0, 0, max_steps - 1, color=\"k\", linewidth=1, alpha=0.3)\n",
    "plt.show()"
   ]
  },
  {
   "cell_type": "code",
   "execution_count": 42,
   "metadata": {},
   "outputs": [],
   "source": [
    "embed_size = 512; max_steps = 500; vocab_size = 10000\n",
    "encoder_inputs = keras.layers.Input(shape=[None], dtype=np.int32)\n",
    "decoder_inputs = keras.layers.Input(shape=[None], dtype=np.int32)\n",
    "embeddings = keras.layers.Embedding(vocab_size, embed_size)\n",
    "encoder_embeddings = embeddings(encoder_inputs)\n",
    "decoder_embeddings = embeddings(decoder_inputs)\n",
    "positional_encoding = PositionalEncoding(max_dims=embed_size, max_steps=max_steps)\n",
    "encoder_in = positional_encoding(encoder_embeddings)\n",
    "decoder_in = positional_encoding(decoder_embeddings)"
   ]
  },
  {
   "cell_type": "code",
   "execution_count": 43,
   "metadata": {},
   "outputs": [],
   "source": [
    "Z = encoder_in\n",
    "for N in range(6):\n",
    "    Z = keras.layers.Attention(use_scale=True)([Z, Z])\n",
    "\n",
    "encoder_outputs = Z\n",
    "Z = decoder_in\n",
    "for N in range(6):\n",
    "    Z = keras.layers.Attention(use_scale=True, causal=True)([Z, Z])\n",
    "    Z = keras.layers.Attention(use_scale=True)([Z, encoder_outputs])\n",
    "\n",
    "outputs = keras.layers.TimeDistributed(\n",
    "                            keras.layers.Dense(vocab_size, activation='softmax'))(Z)"
   ]
  },
  {
   "cell_type": "code",
   "execution_count": 44,
   "metadata": {},
   "outputs": [],
   "source": [
    "model = keras.models.Model(inputs=[encoder_inputs, decoder_inputs], \n",
    "                          outputs=[outputs])"
   ]
  },
  {
   "cell_type": "code",
   "execution_count": 45,
   "metadata": {},
   "outputs": [
    {
     "name": "stdout",
     "output_type": "stream",
     "text": [
      "Model: \"model_2\"\n",
      "__________________________________________________________________________________________________\n",
      "Layer (type)                    Output Shape         Param #     Connected to                     \n",
      "==================================================================================================\n",
      "input_8 (InputLayer)            [(None, None)]       0                                            \n",
      "__________________________________________________________________________________________________\n",
      "input_7 (InputLayer)            [(None, None)]       0                                            \n",
      "__________________________________________________________________________________________________\n",
      "embedding_3 (Embedding)         (None, None, 512)    5120000     input_7[0][0]                    \n",
      "                                                                 input_8[0][0]                    \n",
      "__________________________________________________________________________________________________\n",
      "positional_encoding_7 (Position (None, None, 512)    0           embedding_3[0][0]                \n",
      "                                                                 embedding_3[1][0]                \n",
      "__________________________________________________________________________________________________\n",
      "attention_36 (Attention)        (None, None, 512)    1           positional_encoding_7[0][0]      \n",
      "                                                                 positional_encoding_7[0][0]      \n",
      "__________________________________________________________________________________________________\n",
      "attention_37 (Attention)        (None, None, 512)    1           attention_36[0][0]               \n",
      "                                                                 attention_36[0][0]               \n",
      "__________________________________________________________________________________________________\n",
      "attention_38 (Attention)        (None, None, 512)    1           attention_37[0][0]               \n",
      "                                                                 attention_37[0][0]               \n",
      "__________________________________________________________________________________________________\n",
      "attention_39 (Attention)        (None, None, 512)    1           attention_38[0][0]               \n",
      "                                                                 attention_38[0][0]               \n",
      "__________________________________________________________________________________________________\n",
      "attention_40 (Attention)        (None, None, 512)    1           attention_39[0][0]               \n",
      "                                                                 attention_39[0][0]               \n",
      "__________________________________________________________________________________________________\n",
      "attention_42 (Attention)        (None, None, 512)    1           positional_encoding_7[1][0]      \n",
      "                                                                 positional_encoding_7[1][0]      \n",
      "__________________________________________________________________________________________________\n",
      "attention_41 (Attention)        (None, None, 512)    1           attention_40[0][0]               \n",
      "                                                                 attention_40[0][0]               \n",
      "__________________________________________________________________________________________________\n",
      "attention_43 (Attention)        (None, None, 512)    1           attention_42[0][0]               \n",
      "                                                                 attention_41[0][0]               \n",
      "__________________________________________________________________________________________________\n",
      "attention_44 (Attention)        (None, None, 512)    1           attention_43[0][0]               \n",
      "                                                                 attention_43[0][0]               \n",
      "__________________________________________________________________________________________________\n",
      "attention_45 (Attention)        (None, None, 512)    1           attention_44[0][0]               \n",
      "                                                                 attention_41[0][0]               \n",
      "__________________________________________________________________________________________________\n",
      "attention_46 (Attention)        (None, None, 512)    1           attention_45[0][0]               \n",
      "                                                                 attention_45[0][0]               \n",
      "__________________________________________________________________________________________________\n",
      "attention_47 (Attention)        (None, None, 512)    1           attention_46[0][0]               \n",
      "                                                                 attention_41[0][0]               \n",
      "__________________________________________________________________________________________________\n",
      "attention_48 (Attention)        (None, None, 512)    1           attention_47[0][0]               \n",
      "                                                                 attention_47[0][0]               \n",
      "__________________________________________________________________________________________________\n",
      "attention_49 (Attention)        (None, None, 512)    1           attention_48[0][0]               \n",
      "                                                                 attention_41[0][0]               \n",
      "__________________________________________________________________________________________________\n",
      "attention_50 (Attention)        (None, None, 512)    1           attention_49[0][0]               \n",
      "                                                                 attention_49[0][0]               \n",
      "__________________________________________________________________________________________________\n",
      "attention_51 (Attention)        (None, None, 512)    1           attention_50[0][0]               \n",
      "                                                                 attention_41[0][0]               \n",
      "__________________________________________________________________________________________________\n",
      "attention_52 (Attention)        (None, None, 512)    1           attention_51[0][0]               \n",
      "                                                                 attention_51[0][0]               \n",
      "__________________________________________________________________________________________________\n",
      "attention_53 (Attention)        (None, None, 512)    1           attention_52[0][0]               \n",
      "                                                                 attention_41[0][0]               \n",
      "__________________________________________________________________________________________________\n",
      "time_distributed_2 (TimeDistrib (None, None, 10000)  5130000     attention_53[0][0]               \n",
      "==================================================================================================\n",
      "Total params: 10,250,018\n",
      "Trainable params: 10,250,018\n",
      "Non-trainable params: 0\n",
      "__________________________________________________________________________________________________\n"
     ]
    }
   ],
   "source": [
    "model.summary()"
   ]
  },
  {
   "cell_type": "markdown",
   "metadata": {},
   "source": [
    "# Date Format Converter"
   ]
  },
  {
   "cell_type": "code",
   "execution_count": 2,
   "metadata": {},
   "outputs": [],
   "source": [
    "from datetime import date\n",
    "\n",
    "# cannot use strftime()'s %B format since it depends on the locale\n",
    "MONTHS = [\"January\", \"February\", \"March\", \"April\", \"May\", \"June\",\n",
    "          \"July\", \"August\", \"September\", \"October\", \"November\", \"December\"]\n",
    "\n",
    "def random_dates(n_dates):\n",
    "    min_date = date(1000, 1, 1).toordinal()\n",
    "    max_date = date(9999, 12, 31).toordinal()\n",
    "    ordinals = np.random.randint(max_date-min_date, size=n_dates)+min_date\n",
    "    dates = [date.fromordinal(ordinal) for ordinal in ordinals]\n",
    "    X = [MONTHS[dt.month - 1] + ' ' + dt.strftime('%d, %Y') for dt in dates]\n",
    "    y = [dt.isoformat() for dt in dates]\n",
    "    return X, y"
   ]
  },
  {
   "cell_type": "code",
   "execution_count": 3,
   "metadata": {},
   "outputs": [
    {
     "name": "stdout",
     "output_type": "stream",
     "text": [
      "Input                    Target                   \n",
      "--------------------------------------------------\n",
      "February 17, 3118        3118-02-17               \n",
      "October 12, 1760         1760-10-12               \n",
      "September 29, 1076       1076-09-29               \n"
     ]
    }
   ],
   "source": [
    "np.random.seed(123)\n",
    "\n",
    "n_dates = 3\n",
    "x_example, y_example = random_dates(n_dates)\n",
    "print(\"{:25s}{:25s}\".format(\"Input\", \"Target\"))\n",
    "print(\"-\" * 50)\n",
    "for idx in range(n_dates):\n",
    "    print(\"{:25s}{:25s}\".format(x_example[idx], y_example[idx]))"
   ]
  },
  {
   "cell_type": "code",
   "execution_count": 4,
   "metadata": {},
   "outputs": [
    {
     "data": {
      "text/plain": [
       "'ADFJMNOSabceghilmnoprstuvy01234567890, '"
      ]
     },
     "execution_count": 4,
     "metadata": {},
     "output_type": "execute_result"
    }
   ],
   "source": [
    "INPUT_CHARS = \"\".join(sorted(set(\"\".join(MONTHS)))) + \"01234567890, \"\n",
    "INPUT_CHARS"
   ]
  },
  {
   "cell_type": "code",
   "execution_count": 5,
   "metadata": {},
   "outputs": [],
   "source": [
    "OUTPUT_CHARS = \"0123456789-\""
   ]
  },
  {
   "cell_type": "code",
   "execution_count": 6,
   "metadata": {},
   "outputs": [
    {
     "data": {
      "text/plain": [
       "0"
      ]
     },
     "execution_count": 6,
     "metadata": {},
     "output_type": "execute_result"
    }
   ],
   "source": [
    "INPUT_CHARS.index('A')"
   ]
  },
  {
   "cell_type": "code",
   "execution_count": 7,
   "metadata": {},
   "outputs": [],
   "source": [
    "def date_str_to_ids(dt_str, chars=INPUT_CHARS):\n",
    "    return [chars.index(d) for d in dt_str]"
   ]
  },
  {
   "cell_type": "code",
   "execution_count": 8,
   "metadata": {},
   "outputs": [
    {
     "data": {
      "text/plain": [
       "[2, 11, 9, 20, 23, 8, 20, 25, 38, 27, 33, 37, 38, 29, 27, 27, 34]"
      ]
     },
     "execution_count": 8,
     "metadata": {},
     "output_type": "execute_result"
    }
   ],
   "source": [
    "date_str_to_ids(x_example[0], INPUT_CHARS)"
   ]
  },
  {
   "cell_type": "code",
   "execution_count": 50,
   "metadata": {},
   "outputs": [
    {
     "data": {
      "text/plain": [
       "'February 17, 3118'"
      ]
     },
     "execution_count": 50,
     "metadata": {},
     "output_type": "execute_result"
    }
   ],
   "source": [
    "x_example[0]"
   ]
  },
  {
   "cell_type": "code",
   "execution_count": 51,
   "metadata": {},
   "outputs": [
    {
     "data": {
      "text/plain": [
       "[3, 1, 1, 8, 10, 0, 2, 10, 1, 7]"
      ]
     },
     "execution_count": 51,
     "metadata": {},
     "output_type": "execute_result"
    }
   ],
   "source": [
    "date_str_to_ids(y_example[0], OUTPUT_CHARS)"
   ]
  },
  {
   "cell_type": "code",
   "execution_count": 52,
   "metadata": {},
   "outputs": [
    {
     "data": {
      "text/plain": [
       "'3118-02-17'"
      ]
     },
     "execution_count": 52,
     "metadata": {},
     "output_type": "execute_result"
    }
   ],
   "source": [
    "y_example[0]"
   ]
  },
  {
   "cell_type": "code",
   "execution_count": 53,
   "metadata": {},
   "outputs": [
    {
     "data": {
      "text/plain": [
       "<tf.RaggedTensor [[[1, 2, 3, 4], [1, 2], [1, 3, 5], [4]], [[1], [2, 5], [1, 3, 5, 3]]]>"
      ]
     },
     "execution_count": 53,
     "metadata": {},
     "output_type": "execute_result"
    }
   ],
   "source": [
    "tf.ragged.constant([[[1,2,3,4],[1,2], [1,3, 5], [4]],[[1], [2,5], [1,3,5,3]]], ragged_rank=2)"
   ]
  },
  {
   "cell_type": "code",
   "execution_count": 9,
   "metadata": {},
   "outputs": [],
   "source": [
    "def prepare_date_strs(date_str, chars=INPUT_CHARS):\n",
    "    X_ids = [date_str_to_ids(dt, chars) for dt in date_str]\n",
    "    X = tf.ragged.constant(X_ids, ragged_rank=1)\n",
    "    return (X+1).to_tensor() # using 0 as the padding token\n",
    "\n",
    "def create_dataset(n_dates):\n",
    "    X,y = random_dates(n_dates)\n",
    "    return prepare_date_strs(X, INPUT_CHARS), prepare_date_strs(y, OUTPUT_CHARS)"
   ]
  },
  {
   "cell_type": "code",
   "execution_count": 10,
   "metadata": {},
   "outputs": [],
   "source": [
    "np.random.seed(123)\n",
    "\n",
    "X_train, Y_train = create_dataset(10000)\n",
    "X_valid, Y_valid = create_dataset(2000)\n",
    "X_test, Y_test = create_dataset(2000)"
   ]
  },
  {
   "cell_type": "code",
   "execution_count": 77,
   "metadata": {},
   "outputs": [
    {
     "name": "stdout",
     "output_type": "stream",
     "text": [
      "Model: \"sequential_8\"\n",
      "_________________________________________________________________\n",
      "Layer (type)                 Output Shape              Param #   \n",
      "=================================================================\n",
      "sequential_6 (Sequential)    (None, 128)               83712     \n",
      "_________________________________________________________________\n",
      "repeat_vector_2 (RepeatVecto (None, 10, 128)           0         \n",
      "_________________________________________________________________\n",
      "sequential_7 (Sequential)    (None, 10, 12)            133132    \n",
      "=================================================================\n",
      "Total params: 216,844\n",
      "Trainable params: 216,844\n",
      "Non-trainable params: 0\n",
      "_________________________________________________________________\n"
     ]
    }
   ],
   "source": [
    "embedding_size = 32\n",
    "max_output_length = Y_train.shape[1]\n",
    "\n",
    "np.random.seed(123)\n",
    "tf.random.set_seed(123)\n",
    "\n",
    "encoder = keras.models.Sequential([\n",
    "    keras.layers.Embedding(input_dim = len(INPUT_CHARS)+1, \n",
    "                           output_dim=embedding_size, input_shape=[None]),\n",
    "    keras.layers.LSTM(128)\n",
    "])\n",
    "\n",
    "decoder = keras.models.Sequential([\n",
    "    keras.layers.LSTM(128, return_sequences=True),\n",
    "    keras.layers.Dense(len(OUTPUT_CHARS)+1, activation='softmax')\n",
    "])\n",
    "\n",
    "model = keras.models.Sequential([\n",
    "    encoder,\n",
    "    keras.layers.RepeatVector(max_output_length), # Repeat the output of the encoder to the decoder \n",
    "    decoder\n",
    "])\n",
    "\n",
    "optimizer = keras.optimizers.Nadam()\n",
    "model.compile(loss=\"sparse_categorical_crossentropy\", optimizer=optimizer,\n",
    "              metrics=[\"accuracy\"])\n",
    "model.summary()"
   ]
  },
  {
   "cell_type": "code",
   "execution_count": 94,
   "metadata": {},
   "outputs": [
    {
     "name": "stdout",
     "output_type": "stream",
     "text": [
      "Epoch 1/20\n",
      "313/313 [==============================] - 26s 81ms/step - loss: 1.8369 - accuracy: 0.3407 - val_loss: 1.5001 - val_accuracy: 0.4459\n",
      "Epoch 2/20\n",
      "313/313 [==============================] - 23s 73ms/step - loss: 1.3002 - accuracy: 0.5215 - val_loss: 1.1315 - val_accuracy: 0.5938\n",
      "Epoch 3/20\n",
      "313/313 [==============================] - 23s 74ms/step - loss: 1.1204 - accuracy: 0.6066 - val_loss: 0.8853 - val_accuracy: 0.6777\n",
      "Epoch 4/20\n",
      "313/313 [==============================] - 21s 67ms/step - loss: 0.7481 - accuracy: 0.7182 - val_loss: 0.6499 - val_accuracy: 0.7481\n",
      "Epoch 5/20\n",
      "313/313 [==============================] - 22s 71ms/step - loss: 0.9049 - accuracy: 0.6725 - val_loss: 0.6976 - val_accuracy: 0.7385\n",
      "Epoch 6/20\n",
      "313/313 [==============================] - 22s 71ms/step - loss: 0.5255 - accuracy: 0.7983 - val_loss: 0.4068 - val_accuracy: 0.8457\n",
      "Epoch 7/20\n",
      "313/313 [==============================] - 23s 72ms/step - loss: 0.4293 - accuracy: 0.8497 - val_loss: 0.2948 - val_accuracy: 0.8932\n",
      "Epoch 8/20\n",
      "313/313 [==============================] - 23s 72ms/step - loss: 0.2247 - accuracy: 0.9283 - val_loss: 0.3782 - val_accuracy: 0.8652\n",
      "Epoch 9/20\n",
      "313/313 [==============================] - 24s 78ms/step - loss: 0.1346 - accuracy: 0.9663 - val_loss: 0.1012 - val_accuracy: 0.9769\n",
      "Epoch 10/20\n",
      "313/313 [==============================] - 23s 72ms/step - loss: 0.2155 - accuracy: 0.9429 - val_loss: 1.3195 - val_accuracy: 0.5037\n",
      "Epoch 11/20\n",
      "313/313 [==============================] - 23s 72ms/step - loss: 0.2869 - accuracy: 0.9189 - val_loss: 0.0808 - val_accuracy: 0.9891\n",
      "Epoch 12/20\n",
      "313/313 [==============================] - 23s 72ms/step - loss: 0.0546 - accuracy: 0.9941 - val_loss: 0.0419 - val_accuracy: 0.9955\n",
      "Epoch 13/20\n",
      "313/313 [==============================] - 20s 64ms/step - loss: 0.0303 - accuracy: 0.9976 - val_loss: 0.0265 - val_accuracy: 0.9979\n",
      "Epoch 14/20\n",
      "313/313 [==============================] - 22s 71ms/step - loss: 0.0194 - accuracy: 0.9989 - val_loss: 0.0178 - val_accuracy: 0.9989\n",
      "Epoch 15/20\n",
      "313/313 [==============================] - 25s 81ms/step - loss: 0.0133 - accuracy: 0.9996 - val_loss: 0.0128 - val_accuracy: 0.9994\n",
      "Epoch 16/20\n",
      "313/313 [==============================] - 26s 81ms/step - loss: 0.0095 - accuracy: 0.9998 - val_loss: 0.0098 - val_accuracy: 0.9997\n",
      "Epoch 17/20\n",
      "313/313 [==============================] - 21s 67ms/step - loss: 0.0069 - accuracy: 0.9999 - val_loss: 0.0073 - val_accuracy: 0.9998\n",
      "Epoch 18/20\n",
      "313/313 [==============================] - 26s 82ms/step - loss: 0.0052 - accuracy: 1.0000 - val_loss: 0.0057 - val_accuracy: 0.9998\n",
      "Epoch 19/20\n",
      "313/313 [==============================] - 24s 77ms/step - loss: 0.0039 - accuracy: 1.0000 - val_loss: 0.0046 - val_accuracy: 0.9998\n",
      "Epoch 20/20\n",
      "313/313 [==============================] - 24s 78ms/step - loss: 0.0030 - accuracy: 1.0000 - val_loss: 0.0035 - val_accuracy: 0.9999\n"
     ]
    }
   ],
   "source": [
    "history = model.fit(X_train, Y_train, epochs=20,\n",
    "                    validation_data=(X_valid, Y_valid))"
   ]
  },
  {
   "cell_type": "code",
   "execution_count": 11,
   "metadata": {},
   "outputs": [],
   "source": [
    "def ids_to_date_strs(ids, chars=OUTPUT_CHARS):\n",
    "    return[''.join([('?' + chars)[index] for index in seq])\n",
    "                                      for seq in ids]"
   ]
  },
  {
   "cell_type": "code",
   "execution_count": 58,
   "metadata": {},
   "outputs": [],
   "source": [
    "X_new = prepare_date_strs([\"September 17, 2009\", \"July 14, 1789\"])"
   ]
  },
  {
   "cell_type": "code",
   "execution_count": 59,
   "metadata": {},
   "outputs": [
    {
     "data": {
      "text/plain": [
       "<tf.Tensor: shape=(2, 18), dtype=int32, numpy=\n",
       "array([[ 8, 12, 20, 23, 12, 17, 10, 12, 21, 39, 28, 34, 38, 39, 29, 27,\n",
       "        27, 36],\n",
       "       [ 4, 24, 16, 26, 39, 28, 31, 38, 39, 28, 34, 35, 36,  0,  0,  0,\n",
       "         0,  0]])>"
      ]
     },
     "execution_count": 59,
     "metadata": {},
     "output_type": "execute_result"
    }
   ],
   "source": [
    "X_new"
   ]
  },
  {
   "cell_type": "code",
   "execution_count": 123,
   "metadata": {},
   "outputs": [
    {
     "name": "stdout",
     "output_type": "stream",
     "text": [
      "2009-09-17\n",
      "1789-07-14\n"
     ]
    }
   ],
   "source": [
    "ids = model.predict_classes(X_new)\n",
    "for date_str in ids_to_date_strs(ids):\n",
    "    print(date_str)"
   ]
  },
  {
   "cell_type": "markdown",
   "metadata": {},
   "source": [
    "The model was trained on the larger sequence i.e. 18 so it won't work best for shorter sequence"
   ]
  },
  {
   "cell_type": "code",
   "execution_count": 125,
   "metadata": {},
   "outputs": [],
   "source": [
    "X_new = prepare_date_strs([\"July 14, 1789\"])"
   ]
  },
  {
   "cell_type": "code",
   "execution_count": 126,
   "metadata": {},
   "outputs": [
    {
     "data": {
      "text/plain": [
       "<tf.Tensor: shape=(1, 13), dtype=int32, numpy=array([[ 4, 24, 16, 26, 39, 28, 31, 38, 39, 28, 34, 35, 36]])>"
      ]
     },
     "execution_count": 126,
     "metadata": {},
     "output_type": "execute_result"
    }
   ],
   "source": [
    "X_new"
   ]
  },
  {
   "cell_type": "code",
   "execution_count": 127,
   "metadata": {},
   "outputs": [
    {
     "name": "stdout",
     "output_type": "stream",
     "text": [
      "1789-09-14\n"
     ]
    }
   ],
   "source": [
    "ids = model.predict_classes(X_new)\n",
    "for date_str in ids_to_date_strs(ids):\n",
    "    print(date_str)"
   ]
  },
  {
   "cell_type": "markdown",
   "metadata": {},
   "source": [
    "So we have to use padding"
   ]
  },
  {
   "cell_type": "code",
   "execution_count": 25,
   "metadata": {},
   "outputs": [],
   "source": [
    "max_input_length = X_train.shape[1]"
   ]
  },
  {
   "cell_type": "code",
   "execution_count": 12,
   "metadata": {},
   "outputs": [],
   "source": [
    "def prepare_date_strs_padded(date_str):\n",
    "    X = prepare_date_strs(date_str)\n",
    "    if X.shape[1]<max_input_length:\n",
    "        X = tf.pad(X, [[0, 0], [0, max_input_length - X.shape[1]]])\n",
    "    return X"
   ]
  },
  {
   "cell_type": "code",
   "execution_count": 168,
   "metadata": {},
   "outputs": [],
   "source": [
    "X_new = prepare_date_strs_padded([\"July 14, 1789\"])"
   ]
  },
  {
   "cell_type": "code",
   "execution_count": 169,
   "metadata": {},
   "outputs": [
    {
     "data": {
      "text/plain": [
       "<tf.Tensor: shape=(1, 18), dtype=int32, numpy=\n",
       "array([[ 4, 24, 16, 26, 39, 28, 31, 38, 39, 28, 34, 35, 36,  0,  0,  0,\n",
       "         0,  0]])>"
      ]
     },
     "execution_count": 169,
     "metadata": {},
     "output_type": "execute_result"
    }
   ],
   "source": [
    "X_new"
   ]
  },
  {
   "cell_type": "code",
   "execution_count": 170,
   "metadata": {},
   "outputs": [
    {
     "name": "stdout",
     "output_type": "stream",
     "text": [
      "1789-07-14\n"
     ]
    }
   ],
   "source": [
    "ids = model.predict_classes(X_new)\n",
    "for date_str in ids_to_date_strs(ids):\n",
    "    print(date_str)"
   ]
  },
  {
   "cell_type": "markdown",
   "metadata": {},
   "source": [
    "## Teacher Feeding (Feeding shiftwd Target to the decoder)"
   ]
  },
  {
   "cell_type": "code",
   "execution_count": 13,
   "metadata": {},
   "outputs": [],
   "source": [
    "sos_id = len(OUTPUT_CHARS)+1\n",
    "\n",
    "def shifted_output_sequences(Y):\n",
    "    sos_tokens = tf.fill(dims=(len(Y),1), value=sos_id)\n",
    "    return tf.concat([sos_tokens, Y[:, :-1]], axis=-1)"
   ]
  },
  {
   "cell_type": "code",
   "execution_count": 20,
   "metadata": {},
   "outputs": [],
   "source": [
    "X_train_decoder = shifted_output_sequences(Y_train)\n",
    "X_valid_decoder = shifted_output_sequences(Y_valid)\n",
    "X_test_decoder = shifted_output_sequences(Y_test)"
   ]
  },
  {
   "cell_type": "code",
   "execution_count": 62,
   "metadata": {},
   "outputs": [
    {
     "data": {
      "text/plain": [
       "<tf.Tensor: shape=(10000, 10), dtype=int32, numpy=\n",
       "array([[12,  4,  2, ...,  3, 11,  2],\n",
       "       [12,  2,  8, ...,  1, 11,  2],\n",
       "       [12,  2,  1, ..., 10, 11,  3],\n",
       "       ...,\n",
       "       [12,  9,  9, ...,  8, 11,  1],\n",
       "       [12,  2,  4, ...,  3, 11,  1],\n",
       "       [12,  2,  9, ...,  2, 11,  1]])>"
      ]
     },
     "execution_count": 62,
     "metadata": {},
     "output_type": "execute_result"
    }
   ],
   "source": [
    "X_train_decoder"
   ]
  },
  {
   "cell_type": "code",
   "execution_count": 63,
   "metadata": {},
   "outputs": [
    {
     "name": "stdout",
     "output_type": "stream",
     "text": [
      "Model: \"model_2\"\n",
      "__________________________________________________________________________________________________\n",
      "Layer (type)                    Output Shape         Param #     Connected to                     \n",
      "==================================================================================================\n",
      "input_13 (InputLayer)           [(None, None)]       0                                            \n",
      "__________________________________________________________________________________________________\n",
      "input_14 (InputLayer)           [(None, None)]       0                                            \n",
      "__________________________________________________________________________________________________\n",
      "embedding_14 (Embedding)        (None, None, 32)     1280        input_13[0][0]                   \n",
      "__________________________________________________________________________________________________\n",
      "embedding_15 (Embedding)        (None, None, 32)     416         input_14[0][0]                   \n",
      "__________________________________________________________________________________________________\n",
      "lstm_13 (LSTM)                  [(None, 128), (None, 82432       embedding_14[0][0]               \n",
      "__________________________________________________________________________________________________\n",
      "lstm_14 (LSTM)                  (None, None, 128)    82432       embedding_15[0][0]               \n",
      "                                                                 lstm_13[0][1]                    \n",
      "                                                                 lstm_13[0][2]                    \n",
      "__________________________________________________________________________________________________\n",
      "dense_5 (Dense)                 (None, None, 12)     1548        lstm_14[0][0]                    \n",
      "==================================================================================================\n",
      "Total params: 168,108\n",
      "Trainable params: 168,108\n",
      "Non-trainable params: 0\n",
      "__________________________________________________________________________________________________\n"
     ]
    }
   ],
   "source": [
    "encoder_embedding_size = 32\n",
    "decoder_embedding_size = 32\n",
    "lstm_units = 128\n",
    "\n",
    "np.random.seed(123)\n",
    "tf.random.set_seed(123)\n",
    "\n",
    "encoder_inputs = keras.layers.Input(shape=[None], dtype=tf.int32)\n",
    "encoder_embedding = keras.layers.Embedding(input_dim = len(INPUT_CHARS)+1, \n",
    "                                           output_dim=encoder_embedding_size)(encoder_inputs)\n",
    "_, encoder_h, encoder_c = keras.layers.LSTM(lstm_units, return_state=True)(encoder_embedding)\n",
    "encoder_state=[encoder_h, encoder_c]\n",
    "\n",
    "decoder_inputs = keras.layers.Input(shape=[None], dtype=tf.int32)\n",
    "decoder_embedding = keras.layers.Embedding(input_dim = len(OUTPUT_CHARS)+2, \n",
    "                                           output_dim=decoder_embedding_size)(decoder_inputs)\n",
    "decoder_lstm_output = keras.layers.LSTM(lstm_units, return_sequences=True)(decoder_embedding, initial_state=encoder_state)\n",
    "decoder_output = keras.layers.Dense(len(OUTPUT_CHARS)+1, activation='softmax')(decoder_lstm_output)\n",
    "\n",
    "model = keras.models.Model(inputs=[encoder_inputs, decoder_inputs],\n",
    "                                      outputs=[decoder_output])\n",
    "optimizer = keras.optimizers.Nadam()\n",
    "model.compile(loss=\"sparse_categorical_crossentropy\", optimizer=optimizer,\n",
    "              metrics=[\"accuracy\"])\n",
    "model.summary()"
   ]
  },
  {
   "cell_type": "code",
   "execution_count": 64,
   "metadata": {},
   "outputs": [
    {
     "name": "stdout",
     "output_type": "stream",
     "text": [
      "Epoch 1/10\n",
      "313/313 [==============================] - 23s 73ms/step - loss: 1.6606 - accuracy: 0.3757 - val_loss: 1.4033 - val_accuracy: 0.4552\n",
      "Epoch 2/10\n",
      "313/313 [==============================] - 21s 66ms/step - loss: 1.1996 - accuracy: 0.5422 - val_loss: 0.9914 - val_accuracy: 0.6321\n",
      "Epoch 3/10\n",
      "313/313 [==============================] - 23s 73ms/step - loss: 0.6927 - accuracy: 0.7556 - val_loss: 0.4006 - val_accuracy: 0.8805\n",
      "Epoch 4/10\n",
      "313/313 [==============================] - 21s 68ms/step - loss: 0.2480 - accuracy: 0.9347 - val_loss: 0.1320 - val_accuracy: 0.9755\n",
      "Epoch 5/10\n",
      "313/313 [==============================] - 23s 74ms/step - loss: 0.0975 - accuracy: 0.9854 - val_loss: 0.0464 - val_accuracy: 0.9979\n",
      "Epoch 6/10\n",
      "313/313 [==============================] - 24s 76ms/step - loss: 0.0552 - accuracy: 0.9940 - val_loss: 0.0300 - val_accuracy: 0.9991\n",
      "Epoch 7/10\n",
      "313/313 [==============================] - 23s 75ms/step - loss: 0.0191 - accuracy: 0.9999 - val_loss: 0.0158 - val_accuracy: 0.9999\n",
      "Epoch 8/10\n",
      "313/313 [==============================] - 23s 72ms/step - loss: 0.0488 - accuracy: 0.9915 - val_loss: 0.0153 - val_accuracy: 0.9998\n",
      "Epoch 9/10\n",
      "313/313 [==============================] - 23s 72ms/step - loss: 0.0102 - accuracy: 1.0000 - val_loss: 0.0085 - val_accuracy: 0.9999\n",
      "Epoch 10/10\n",
      "313/313 [==============================] - 23s 73ms/step - loss: 0.0064 - accuracy: 1.0000 - val_loss: 0.0060 - val_accuracy: 0.9999\n"
     ]
    }
   ],
   "source": [
    "history = model.fit([X_train, X_train_decoder], Y_train, epochs=10,\n",
    "                    validation_data=([X_valid, X_valid_decoder], Y_valid))"
   ]
  },
  {
   "cell_type": "code",
   "execution_count": 14,
   "metadata": {},
   "outputs": [],
   "source": [
    "sos_id = len(OUTPUT_CHARS)+1\n",
    "\n",
    "def predict_date_strs(date_str):\n",
    "    X = prepare_date_strs_padded(date_str)\n",
    "    y_pred = tf.fill(dims=(len(X), 1), value=sos_id)\n",
    "    for index in range(max_output_length):\n",
    "        pad_size = max_output_length-y_pred.shape[0]\n",
    "        X_decoder = tf.pad(y_pred, [[0,0], [0, pad_size]])\n",
    "        y_probas_next = model.predict([X, X_decoder])[:, index:index+1]\n",
    "        y_pred_next = tf.argmax(y_probas_next, axis=-1, output_type = tf.int32)\n",
    "        y_pred = tf.concat([y_pred, y_pred_next], axis=1)\n",
    "    return ids_to_date_strs(y_pred[:, 1:])"
   ]
  },
  {
   "cell_type": "code",
   "execution_count": 76,
   "metadata": {},
   "outputs": [
    {
     "name": "stdout",
     "output_type": "stream",
     "text": [
      "(2, 1, 12)\n",
      "(2, 1, 12)\n",
      "(2, 1, 12)\n",
      "(2, 1, 12)\n",
      "(2, 1, 12)\n",
      "(2, 1, 12)\n",
      "(2, 1, 12)\n",
      "(2, 1, 12)\n",
      "(2, 1, 12)\n",
      "(2, 1, 12)\n"
     ]
    },
    {
     "data": {
      "text/plain": [
       "['1789-07-14', '2020-05-01']"
      ]
     },
     "execution_count": 76,
     "metadata": {},
     "output_type": "execute_result"
    }
   ],
   "source": [
    "predict_date_strs([\"July 14, 1789\", \"May 01, 2020\"])"
   ]
  },
  {
   "cell_type": "markdown",
   "metadata": {},
   "source": [
    "## TF_Addons Basic seq2seq "
   ]
  },
  {
   "cell_type": "code",
   "execution_count": 79,
   "metadata": {},
   "outputs": [
    {
     "name": "stdout",
     "output_type": "stream",
     "text": [
      "Model: \"model_3\"\n",
      "__________________________________________________________________________________________________\n",
      "Layer (type)                    Output Shape         Param #     Connected to                     \n",
      "==================================================================================================\n",
      "input_18 (InputLayer)           [(None, None)]       0                                            \n",
      "__________________________________________________________________________________________________\n",
      "input_19 (InputLayer)           [(None, None)]       0                                            \n",
      "__________________________________________________________________________________________________\n",
      "embedding_19 (Embedding)        (None, None, 32)     1280        input_18[0][0]                   \n",
      "__________________________________________________________________________________________________\n",
      "embedding_20 (Embedding)        (None, None, 32)     1312        input_19[0][0]                   \n",
      "__________________________________________________________________________________________________\n",
      "lstm_18 (LSTM)                  [(None, 128), (None, 82432       embedding_19[0][0]               \n",
      "__________________________________________________________________________________________________\n",
      "basic_decoder_1 (BasicDecoder)  (BasicDecoderOutput( 83980       embedding_20[0][0]               \n",
      "__________________________________________________________________________________________________\n",
      "activation (Activation)         (None, None, 12)     0           basic_decoder_1[0][0]            \n",
      "==================================================================================================\n",
      "Total params: 169,004\n",
      "Trainable params: 169,004\n",
      "Non-trainable params: 0\n",
      "__________________________________________________________________________________________________\n"
     ]
    }
   ],
   "source": [
    "import tensorflow_addons as tfa\n",
    "\n",
    "np.random.seed(42)\n",
    "tf.random.set_seed(42)\n",
    "\n",
    "encoder_embedding_size = 32\n",
    "decoder_embedding_size = 32\n",
    "units = 128\n",
    "\n",
    "encoder_inputs = keras.layers.Input(shape=[None], dtype=np.int32)\n",
    "decoder_inputs = keras.layers.Input(shape=[None], dtype=np.int32)\n",
    "sequence_lengths = keras.layers.Input(shape=[], dtype=np.int32)\n",
    "\n",
    "encoder_embeddings = keras.layers.Embedding(\n",
    "    len(INPUT_CHARS) + 1, encoder_embedding_size)(encoder_inputs)\n",
    "\n",
    "decoder_embedding_layer = keras.layers.Embedding(\n",
    "    len(INPUT_CHARS) + 2, decoder_embedding_size)\n",
    "decoder_embeddings = decoder_embedding_layer(decoder_inputs)\n",
    "\n",
    "encoder = keras.layers.LSTM(units, return_state=True)\n",
    "encoder_outputs, state_h, state_c = encoder(encoder_embeddings)\n",
    "encoder_state = [state_h, state_c]\n",
    "\n",
    "sampler = tfa.seq2seq.sampler.TrainingSampler()\n",
    "\n",
    "decoder_cell = keras.layers.LSTMCell(units)\n",
    "output_layer = keras.layers.Dense(len(OUTPUT_CHARS) + 1)\n",
    "\n",
    "decoder = tfa.seq2seq.basic_decoder.BasicDecoder(decoder_cell,\n",
    "                                                 sampler,\n",
    "                                                 output_layer=output_layer)\n",
    "final_outputs, final_state, final_sequence_lengths = decoder(\n",
    "    decoder_embeddings, training=True,\n",
    "    initial_state=encoder_state)\n",
    "Y_proba = keras.layers.Activation(\"softmax\")(final_outputs.rnn_output)\n",
    "\n",
    "\n",
    "model = keras.models.Model(inputs=[encoder_inputs, decoder_inputs],\n",
    "                           outputs=[Y_proba])\n",
    "optimizer = keras.optimizers.Nadam()\n",
    "model.compile(loss=\"sparse_categorical_crossentropy\", optimizer=optimizer,\n",
    "              metrics=[\"accuracy\"])\n",
    "\n",
    "model.summary()"
   ]
  },
  {
   "cell_type": "code",
   "execution_count": 80,
   "metadata": {},
   "outputs": [
    {
     "name": "stdout",
     "output_type": "stream",
     "text": [
      "Epoch 1/15\n",
      "313/313 [==============================] - 24s 78ms/step - loss: 1.6739 - accuracy: 0.3656 - val_loss: 1.4868 - val_accuracy: 0.4063\n",
      "Epoch 2/15\n",
      "313/313 [==============================] - 22s 70ms/step - loss: 1.3953 - accuracy: 0.4562 - val_loss: 1.3563 - val_accuracy: 0.4618\n",
      "Epoch 3/15\n",
      "313/313 [==============================] - 23s 73ms/step - loss: 1.0973 - accuracy: 0.5914 - val_loss: 0.8483 - val_accuracy: 0.7071\n",
      "Epoch 4/15\n",
      "313/313 [==============================] - 22s 69ms/step - loss: 0.6123 - accuracy: 0.7896 - val_loss: 0.3597 - val_accuracy: 0.8931\n",
      "Epoch 5/15\n",
      "313/313 [==============================] - 18s 58ms/step - loss: 0.2094 - accuracy: 0.9518 - val_loss: 0.1155 - val_accuracy: 0.9818\n",
      "Epoch 6/15\n",
      "313/313 [==============================] - 15s 48ms/step - loss: 0.0903 - accuracy: 0.9885 - val_loss: 0.0467 - val_accuracy: 0.9972\n",
      "Epoch 7/15\n",
      "313/313 [==============================] - 24s 76ms/step - loss: 0.0327 - accuracy: 0.9993 - val_loss: 0.0260 - val_accuracy: 0.9994\n",
      "Epoch 8/15\n",
      "313/313 [==============================] - 24s 76ms/step - loss: 0.0375 - accuracy: 0.9952 - val_loss: 0.0180 - val_accuracy: 0.9998\n",
      "Epoch 9/15\n",
      "313/313 [==============================] - 24s 78ms/step - loss: 0.0131 - accuracy: 0.9999 - val_loss: 0.0111 - val_accuracy: 0.9999\n",
      "Epoch 10/15\n",
      "313/313 [==============================] - 24s 76ms/step - loss: 0.0087 - accuracy: 1.0000 - val_loss: 0.0079 - val_accuracy: 1.0000\n",
      "Epoch 11/15\n",
      "313/313 [==============================] - 24s 75ms/step - loss: 0.0062 - accuracy: 1.0000 - val_loss: 0.0059 - val_accuracy: 0.9999\n",
      "Epoch 12/15\n",
      "313/313 [==============================] - 21s 66ms/step - loss: 0.0551 - accuracy: 0.9894 - val_loss: 0.0071 - val_accuracy: 0.9999\n",
      "Epoch 13/15\n",
      "313/313 [==============================] - 22s 71ms/step - loss: 0.0052 - accuracy: 1.0000 - val_loss: 0.0046 - val_accuracy: 1.0000\n",
      "Epoch 14/15\n",
      "313/313 [==============================] - 20s 63ms/step - loss: 0.0036 - accuracy: 1.0000 - val_loss: 0.0035 - val_accuracy: 1.0000\n",
      "Epoch 15/15\n",
      "313/313 [==============================] - 22s 69ms/step - loss: 0.0028 - accuracy: 1.0000 - val_loss: 0.0027 - val_accuracy: 1.0000\n"
     ]
    }
   ],
   "source": [
    "history = model.fit([X_train, X_train_decoder], Y_train, epochs=15,\n",
    "                    validation_data=([X_valid, X_valid_decoder], Y_valid))"
   ]
  },
  {
   "cell_type": "code",
   "execution_count": 85,
   "metadata": {},
   "outputs": [
    {
     "data": {
      "text/plain": [
       "['1789-07-14', '2020-05-01']"
      ]
     },
     "execution_count": 85,
     "metadata": {},
     "output_type": "execute_result"
    }
   ],
   "source": [
    "predict_date_strs([\"July 14, 1789\", \"May 01, 2020\"])"
   ]
  },
  {
   "cell_type": "code",
   "execution_count": 93,
   "metadata": {},
   "outputs": [],
   "source": [
    "# To automatically provide the last predicted class to the next time step during inference\n",
    "inference_sampler = tfa.seq2seq.sampler.GreedyEmbeddingSampler(\n",
    "    embedding_fn=decoder_embedding_layer)\n",
    "inference_decoder = tfa.seq2seq.basic_decoder.BasicDecoder(\n",
    "    decoder_cell, inference_sampler, output_layer=output_layer,\n",
    "    maximum_iterations=max_output_length) # maximum_iterations are necessary otherwise it would run on an infinite loop\n",
    "batch_size = tf.shape(encoder_inputs)[:1]\n",
    "start_tokens = tf.fill(dims=batch_size, value=sos_id) # start token is also important\n",
    "final_outputs, final_state, final_sequence_lengths = inference_decoder(\n",
    "    start_tokens, training=True,\n",
    "    initial_state=encoder_state,\n",
    "    start_tokens=start_tokens,\n",
    "    end_token=0)\n",
    "\n",
    "inference_model = keras.models.Model(inputs=[encoder_inputs],\n",
    "                                     outputs=[final_outputs.sample_id])\n"
   ]
  },
  {
   "cell_type": "markdown",
   "metadata": {},
   "source": [
    "## Using Seq2Seq ScheduledSampler"
   ]
  },
  {
   "cell_type": "code",
   "execution_count": 17,
   "metadata": {},
   "outputs": [
    {
     "name": "stdout",
     "output_type": "stream",
     "text": [
      "Model: \"model\"\n",
      "__________________________________________________________________________________________________\n",
      "Layer (type)                    Output Shape         Param #     Connected to                     \n",
      "==================================================================================================\n",
      "input_7 (InputLayer)            [(None, None)]       0                                            \n",
      "__________________________________________________________________________________________________\n",
      "input_8 (InputLayer)            [(None, None)]       0                                            \n",
      "__________________________________________________________________________________________________\n",
      "embedding_4 (Embedding)         (None, None, 32)     1280        input_7[0][0]                    \n",
      "__________________________________________________________________________________________________\n",
      "embedding_5 (Embedding)         (None, None, 32)     1312        input_8[0][0]                    \n",
      "__________________________________________________________________________________________________\n",
      "lstm_2 (LSTM)                   [(None, 128), (None, 82432       embedding_4[0][0]                \n",
      "__________________________________________________________________________________________________\n",
      "basic_decoder_1 (BasicDecoder)  (BasicDecoderOutput( 83980       embedding_5[0][0]                \n",
      "__________________________________________________________________________________________________\n",
      "activation (Activation)         (None, None, 12)     0           basic_decoder_1[0][0]            \n",
      "==================================================================================================\n",
      "Total params: 169,004\n",
      "Trainable params: 169,004\n",
      "Non-trainable params: 0\n",
      "__________________________________________________________________________________________________\n"
     ]
    }
   ],
   "source": [
    "import tensorflow_addons as tfa\n",
    "\n",
    "np.random.seed(123)\n",
    "tf.random.set_seed(123)\n",
    "\n",
    "n_epochs = 20\n",
    "encoder_embedding_size = 32\n",
    "decoder_embedding_size = 32\n",
    "units = 128\n",
    "\n",
    "encoder_inputs = keras.layers.Input(shape=[None], dtype=np.int32)\n",
    "decoder_inputs = keras.layers.Input(shape=[None], dtype=np.int32)\n",
    "sequence_lengths = keras.layers.Input(shape=[], dtype=np.int32)\n",
    "\n",
    "encoder_embeddings = keras.layers.Embedding(\n",
    "    len(INPUT_CHARS) + 1, encoder_embedding_size)(encoder_inputs)\n",
    "\n",
    "decoder_embedding_layer = keras.layers.Embedding(\n",
    "    len(INPUT_CHARS) + 2, decoder_embedding_size)\n",
    "decoder_embeddings = decoder_embedding_layer(decoder_inputs)\n",
    "\n",
    "encoder = keras.layers.LSTM(units, return_state=True)\n",
    "encoder_outputs, state_h, state_c = encoder(encoder_embeddings)\n",
    "encoder_state = [state_h, state_c]\n",
    "\n",
    "sampler = tfa.seq2seq.sampler.ScheduledEmbeddingTrainingSampler(sampling_probability=0,\n",
    "                                                                embedding_fn=decoder_embedding_layer)\n",
    "# we must set the sampling_probability after creating the sampler\n",
    "sampler.sampling_probability = tf.Variable(0.)\n",
    "\n",
    "decoder_cell = keras.layers.LSTMCell(units)\n",
    "output_layer = keras.layers.Dense(len(OUTPUT_CHARS) + 1)\n",
    "\n",
    "decoder = tfa.seq2seq.basic_decoder.BasicDecoder(decoder_cell,\n",
    "                                                 sampler,\n",
    "                                                 output_layer=output_layer)\n",
    "final_outputs, final_state, final_sequence_lengths = decoder(\n",
    "    decoder_embeddings, training=True,\n",
    "    initial_state=encoder_state)\n",
    "Y_proba = keras.layers.Activation(\"softmax\")(final_outputs.rnn_output)\n",
    "\n",
    "model = keras.models.Model(inputs=[encoder_inputs, decoder_inputs],\n",
    "                           outputs=[Y_proba])\n",
    "optimizer = keras.optimizers.Nadam()\n",
    "model.compile(loss=\"sparse_categorical_crossentropy\", optimizer=optimizer,\n",
    "              metrics=[\"accuracy\"])\n",
    "model.summary()"
   ]
  },
  {
   "cell_type": "code",
   "execution_count": 22,
   "metadata": {},
   "outputs": [],
   "source": [
    "def update_sampling_probability(epochs, logs):\n",
    "    proba = min(1.0, epochs/(n_epochs-1))\n",
    "    sampler.sampling_probability.assign(proba)\n",
    "\n",
    "sampling_probability_cb = keras.callbacks.LambdaCallback(on_epoch_begin=update_sampling_probability)"
   ]
  },
  {
   "cell_type": "code",
   "execution_count": 23,
   "metadata": {},
   "outputs": [
    {
     "name": "stdout",
     "output_type": "stream",
     "text": [
      "Epoch 1/20\n"
     ]
    },
    {
     "name": "stderr",
     "output_type": "stream",
     "text": [
      "C:\\Users\\user\\Anaconda3\\Lib\\site-packages\\tensorflow\\python\\framework\\indexed_slices.py:434: UserWarning: Converting sparse IndexedSlices to a dense Tensor of unknown shape. This may consume a large amount of memory.\n",
      "  \"Converting sparse IndexedSlices to a dense Tensor of unknown shape. \"\n"
     ]
    },
    {
     "name": "stdout",
     "output_type": "stream",
     "text": [
      "313/313 [==============================] - 26s 84ms/step - loss: 1.6641 - accuracy: 0.3771 - val_loss: 1.3807 - val_accuracy: 0.4690\n",
      "Epoch 2/20\n",
      "313/313 [==============================] - 23s 74ms/step - loss: 1.1808 - accuracy: 0.5513 - val_loss: 0.9317 - val_accuracy: 0.6484\n",
      "Epoch 3/20\n",
      "313/313 [==============================] - 10s 33ms/step - loss: 0.7171 - accuracy: 0.7403 - val_loss: 0.5232 - val_accuracy: 0.8202\n",
      "Epoch 4/20\n",
      "313/313 [==============================] - 7s 22ms/step - loss: 0.3961 - accuracy: 0.8721 - val_loss: 0.2861 - val_accuracy: 0.9249\n",
      "Epoch 5/20\n",
      "313/313 [==============================] - 14s 46ms/step - loss: 0.2335 - accuracy: 0.9435 - val_loss: 0.2007 - val_accuracy: 0.9524\n",
      "Epoch 6/20\n",
      "313/313 [==============================] - 11s 36ms/step - loss: 0.1464 - accuracy: 0.9722 - val_loss: 0.1103 - val_accuracy: 0.9824\n",
      "Epoch 7/20\n",
      "313/313 [==============================] - 22s 71ms/step - loss: 0.1390 - accuracy: 0.9737 - val_loss: 0.0907 - val_accuracy: 0.9862\n",
      "Epoch 8/20\n",
      "313/313 [==============================] - 21s 68ms/step - loss: 0.0739 - accuracy: 0.9883 - val_loss: 0.0608 - val_accuracy: 0.9912\n",
      "Epoch 9/20\n",
      "313/313 [==============================] - 16s 52ms/step - loss: 0.0548 - accuracy: 0.9915 - val_loss: 0.0461 - val_accuracy: 0.9929\n",
      "Epoch 10/20\n",
      "313/313 [==============================] - 22s 70ms/step - loss: 0.0403 - accuracy: 0.9936 - val_loss: 0.0380 - val_accuracy: 0.9941\n",
      "Epoch 11/20\n",
      "313/313 [==============================] - 20s 65ms/step - loss: 0.0543 - accuracy: 0.9903 - val_loss: 0.0239 - val_accuracy: 0.9966\n",
      "Epoch 12/20\n",
      "313/313 [==============================] - 21s 66ms/step - loss: 0.0207 - accuracy: 0.9968 - val_loss: 0.0171 - val_accuracy: 0.9976\n",
      "Epoch 13/20\n",
      "313/313 [==============================] - 20s 65ms/step - loss: 0.0608 - accuracy: 0.9889 - val_loss: 0.0602 - val_accuracy: 0.9890\n",
      "Epoch 14/20\n",
      "313/313 [==============================] - 22s 69ms/step - loss: 0.0197 - accuracy: 0.9969 - val_loss: 0.0120 - val_accuracy: 0.9980\n",
      "Epoch 15/20\n",
      "313/313 [==============================] - 21s 66ms/step - loss: 0.0109 - accuracy: 0.9983 - val_loss: 0.0109 - val_accuracy: 0.9981\n",
      "Epoch 16/20\n",
      "313/313 [==============================] - 21s 66ms/step - loss: 0.0089 - accuracy: 0.9985 - val_loss: 0.0079 - val_accuracy: 0.9987\n",
      "Epoch 17/20\n",
      "313/313 [==============================] - 21s 66ms/step - loss: 0.0063 - accuracy: 0.9990 - val_loss: 0.0068 - val_accuracy: 0.9988\n",
      "Epoch 18/20\n",
      "313/313 [==============================] - 20s 65ms/step - loss: 0.0261 - accuracy: 0.9947 - val_loss: 0.0278 - val_accuracy: 0.9948\n",
      "Epoch 19/20\n",
      "313/313 [==============================] - 20s 64ms/step - loss: 0.0071 - accuracy: 0.9990 - val_loss: 0.0060 - val_accuracy: 0.9991\n",
      "Epoch 20/20\n",
      "313/313 [==============================] - 24s 76ms/step - loss: 0.0037 - accuracy: 0.9995 - val_loss: 0.0036 - val_accuracy: 0.9994\n"
     ]
    }
   ],
   "source": [
    "history = model.fit([X_train, X_train_decoder], Y_train, epochs=n_epochs,\n",
    "                    validation_data=([X_valid, X_valid_decoder], Y_valid),\n",
    "                    callbacks=[sampling_probability_cb])"
   ]
  },
  {
   "cell_type": "markdown",
   "metadata": {},
   "source": [
    "## Using TFA seq2seq, the Keras subclassing API and attention mechanisms"
   ]
  },
  {
   "cell_type": "code",
   "execution_count": 71,
   "metadata": {},
   "outputs": [],
   "source": [
    "class DateTranslation(keras.models.Model):\n",
    "    def __init__(self, units=128, encoder_embedding_size=32,\n",
    "                 decoder_embedding_size=32, **kwargs):\n",
    "        super().__init__(**kwargs)\n",
    "        self.encoder_embedding = keras.layers.Embedding(input_dim=len(INPUT_CHARS)+1,\n",
    "                                                       output_dim=encoder_embedding_size)\n",
    "        self.encoder_cell = keras.layers.LSTM(units, return_sequences=True, return_state=True)\n",
    "        self.decoder_embedding = keras.layers.Embedding(input_dim=len(OUTPUT_CHARS) + 2,\n",
    "                                                        output_dim=decoder_embedding_size)\n",
    "        self.attention = tfa.seq2seq.LuongAttention(units)\n",
    "        decoder_inner_cell = keras.layers.LSTMCell(units)\n",
    "        self.decoder_cell = tfa.seq2seq.AttentionWrapper(cell=decoder_inner_cell, attention_mechanism=self.attention)\n",
    "        output_layer = keras.layers.Dense(len(OUTPUT_CHARS) + 1)\n",
    "        self.decoder = tfa.seq2seq.BasicDecoder(cell=self.decoder_cell, sampler=tfa.seq2seq.TrainingSampler(),\n",
    "                                               output_layer=output_layer)\n",
    "        self.inference_decoder=tfa.seq2seq.BasicDecoder(cell=self.decoder_cell, \n",
    "                                    sampler=tfa.seq2seq.GreedyEmbeddingSampler(embedding_fn=self.decoder_embedding),\n",
    "                                    output_layer=output_layer, maximum_iterations=max_output_length)\n",
    "    def call(self, inputs, training=None):\n",
    "        encoder_input, decoder_input = inputs\n",
    "        encoder_embeddings = self.encoder_embedding(encoder_input)\n",
    "        encoder_outputs, encoder_h, encoder_c = self.encoder_cell(encoder_embeddings, training=training)\n",
    "        encoder_state = [encoder_h, encoder_c]\n",
    "        self.attention(encoder_outputs, setup_memory=True)\n",
    "        decoder_embeddings = self.decoder_embedding(decoder_input)\n",
    "        decoder_initial_state = self.decoder_cell.get_initial_state(decoder_embeddings)\n",
    "        decoder_initial_state = decoder_initial_state.clone(cell_state = encoder_state)\n",
    "        if training:\n",
    "            decoder_outputs,_ ,_ = self.decoder(decoder_embeddings, \n",
    "                                                initial_state=decoder_initial_state, training=training)\n",
    "        else:\n",
    "            start_tokens = tf.zeros_like(encoder_input[:, 0])+sos_id\n",
    "            decoder_outputs, _, _ = self.inference_decoder(decoder_embeddings,\n",
    "                                            initial_state=decoder_initial_state, start_tokens=start_tokens, end_token=0)\n",
    "        return tf.nn.softmax(decoder_outputs.rnn_output)"
   ]
  },
  {
   "cell_type": "code",
   "execution_count": 72,
   "metadata": {},
   "outputs": [],
   "source": [
    "model = DateTranslation()\n",
    "optimizer = keras.optimizers.Nadam()\n",
    "model.compile(loss=\"sparse_categorical_crossentropy\", optimizer=optimizer,\n",
    "              metrics=[\"accuracy\"])"
   ]
  },
  {
   "cell_type": "code",
   "execution_count": 73,
   "metadata": {},
   "outputs": [
    {
     "name": "stdout",
     "output_type": "stream",
     "text": [
      "Epoch 1/25\n",
      "313/313 [==============================] - 23s 75ms/step - loss: 2.1298 - accuracy: 0.2349 - val_loss: 2.0020 - val_accuracy: 0.2772\n",
      "Epoch 2/25\n",
      "313/313 [==============================] - 26s 83ms/step - loss: 1.7828 - accuracy: 0.3580 - val_loss: 1.4823 - val_accuracy: 0.4426\n",
      "Epoch 3/25\n",
      "313/313 [==============================] - 25s 81ms/step - loss: 1.4399 - accuracy: 0.4754 - val_loss: 1.3733 - val_accuracy: 0.4854\n",
      "Epoch 4/25\n",
      "313/313 [==============================] - 22s 70ms/step - loss: 1.3929 - accuracy: 0.4979 - val_loss: 1.3458 - val_accuracy: 0.4983\n",
      "Epoch 5/25\n",
      "313/313 [==============================] - 13s 43ms/step - loss: 1.1730 - accuracy: 0.5750 - val_loss: 0.9184 - val_accuracy: 0.6754\n",
      "Epoch 6/25\n",
      "313/313 [==============================] - 14s 44ms/step - loss: 0.7885 - accuracy: 0.7300 - val_loss: 0.4729 - val_accuracy: 0.8496\n",
      "Epoch 7/25\n",
      "313/313 [==============================] - 25s 79ms/step - loss: 0.2604 - accuracy: 0.9270 - val_loss: 0.2213 - val_accuracy: 0.9621\n",
      "Epoch 8/25\n",
      "313/313 [==============================] - 26s 84ms/step - loss: 0.0865 - accuracy: 0.9880 - val_loss: 0.0340 - val_accuracy: 0.9983\n",
      "Epoch 9/25\n",
      "313/313 [==============================] - 26s 83ms/step - loss: 0.0227 - accuracy: 0.9992 - val_loss: 0.0167 - val_accuracy: 0.9997\n",
      "Epoch 10/25\n",
      "313/313 [==============================] - 24s 78ms/step - loss: 0.0831 - accuracy: 0.9829 - val_loss: 0.6235 - val_accuracy: 0.8016\n",
      "Epoch 11/25\n",
      "313/313 [==============================] - 20s 63ms/step - loss: 0.2469 - accuracy: 0.9183 - val_loss: 0.1377 - val_accuracy: 0.9555\n",
      "Epoch 12/25\n",
      "313/313 [==============================] - 24s 77ms/step - loss: 0.0577 - accuracy: 0.9843 - val_loss: 0.0091 - val_accuracy: 1.0000\n",
      "Epoch 13/25\n",
      "313/313 [==============================] - 24s 77ms/step - loss: 0.0065 - accuracy: 1.0000 - val_loss: 0.0049 - val_accuracy: 1.0000\n",
      "Epoch 14/25\n",
      "313/313 [==============================] - 24s 77ms/step - loss: 0.0042 - accuracy: 0.9999 - val_loss: 0.0045 - val_accuracy: 0.9998\n",
      "Epoch 15/25\n",
      "313/313 [==============================] - 24s 77ms/step - loss: 0.1433 - accuracy: 0.9692 - val_loss: 0.0467 - val_accuracy: 0.9853\n",
      "Epoch 16/25\n",
      "313/313 [==============================] - 24s 77ms/step - loss: 0.0328 - accuracy: 0.9877 - val_loss: 0.0306 - val_accuracy: 0.9877\n",
      "Epoch 17/25\n",
      "313/313 [==============================] - 24s 77ms/step - loss: 0.0287 - accuracy: 0.9881 - val_loss: 0.0292 - val_accuracy: 0.9873\n",
      "Epoch 18/25\n",
      "313/313 [==============================] - 24s 77ms/step - loss: 0.0270 - accuracy: 0.9886 - val_loss: 0.0278 - val_accuracy: 0.9880\n",
      "Epoch 19/25\n",
      "313/313 [==============================] - 21s 68ms/step - loss: 0.0147 - accuracy: 0.9930 - val_loss: 0.0105 - val_accuracy: 0.9946\n",
      "Epoch 20/25\n",
      "313/313 [==============================] - 23s 72ms/step - loss: 0.0098 - accuracy: 0.9948 - val_loss: 0.0100 - val_accuracy: 0.9944\n",
      "Epoch 21/25\n",
      "313/313 [==============================] - 19s 61ms/step - loss: 0.0095 - accuracy: 0.9948 - val_loss: 0.0098 - val_accuracy: 0.9946\n",
      "Epoch 22/25\n",
      "313/313 [==============================] - 24s 77ms/step - loss: 0.0094 - accuracy: 0.9949 - val_loss: 0.0101 - val_accuracy: 0.9944\n",
      "Epoch 23/25\n",
      "313/313 [==============================] - 21s 67ms/step - loss: 0.0093 - accuracy: 0.9948 - val_loss: 0.0095 - val_accuracy: 0.9944\n",
      "Epoch 24/25\n",
      "313/313 [==============================] - 24s 77ms/step - loss: 0.0093 - accuracy: 0.9946 - val_loss: 0.0099 - val_accuracy: 0.9946\n",
      "Epoch 25/25\n",
      "313/313 [==============================] - 21s 68ms/step - loss: 0.0093 - accuracy: 0.9947 - val_loss: 0.0094 - val_accuracy: 0.9946\n"
     ]
    }
   ],
   "source": [
    "history = model.fit([X_train, X_train_decoder], Y_train, epochs=25,\n",
    "                    validation_data=([X_valid, X_valid_decoder], Y_valid))"
   ]
  },
  {
   "cell_type": "code",
   "execution_count": 74,
   "metadata": {},
   "outputs": [],
   "source": [
    "def fast_predict_date_strs_v2(date_strs):\n",
    "    X = prepare_date_strs_padded(date_strs)\n",
    "    X_decoder = tf.zeros(shape=(len(X), max_output_length), dtype=tf.int32)\n",
    "    Y_probas = model.predict([X, X_decoder])\n",
    "    Y_pred = tf.argmax(Y_probas, axis=-1)\n",
    "    return ids_to_date_strs(Y_pred)"
   ]
  },
  {
   "cell_type": "code",
   "execution_count": 75,
   "metadata": {},
   "outputs": [
    {
     "data": {
      "text/plain": [
       "['1789-07-14', '2020-05-01']"
      ]
     },
     "execution_count": 75,
     "metadata": {},
     "output_type": "execute_result"
    }
   ],
   "source": [
    "fast_predict_date_strs_v2([\"July 14, 1789\", \"May 01, 2020\"])"
   ]
  },
  {
   "cell_type": "code",
   "execution_count": null,
   "metadata": {},
   "outputs": [],
   "source": []
  }
 ],
 "metadata": {
  "kernelspec": {
   "display_name": "Python 3",
   "language": "python",
   "name": "python3"
  },
  "language_info": {
   "codemirror_mode": {
    "name": "ipython",
    "version": 3
   },
   "file_extension": ".py",
   "mimetype": "text/x-python",
   "name": "python",
   "nbconvert_exporter": "python",
   "pygments_lexer": "ipython3",
   "version": "3.7.6"
  }
 },
 "nbformat": 4,
 "nbformat_minor": 4
}
